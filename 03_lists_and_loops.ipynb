{
 "cells": [
  {
   "cell_type": "code",
   "execution_count": 1,
   "id": "ea89c429",
   "metadata": {},
   "outputs": [
    {
     "name": "stdout",
     "output_type": "stream",
     "text": [
      "After adding orange: ['apple', 'banana', 'cherry', 'orange']\n",
      "After inserting grape: ['apple', 'grape', 'banana', 'cherry', 'orange']\n",
      "After removing banana: ['apple', 'grape', 'cherry', 'orange']\n",
      "After popping item at index 2: ['apple', 'grape', 'orange']\n",
      "Popped item: cherry\n",
      "Total number of items in the list: 3\n",
      "Sorted grocery list: ['apple', 'grape', 'orange']\n"
     ]
    }
   ],
   "source": [
    "# Step 1: Initialize the grocery list with some default items\n",
    "grocery_list = [\"apple\", \"banana\", \"cherry\"]\n",
    "\n",
    "# Step 2: User adds an item (e.g., \"orange\")\n",
    "grocery_list.append(\"orange\")\n",
    "print(\"After adding orange:\", grocery_list)  # Output: ['apple', 'banana', 'cherry', 'orange']\n",
    "\n",
    "# Step 3: User inserts \"grape\" at the second position (index 1)\n",
    "grocery_list.insert(1, \"grape\")\n",
    "print(\"After inserting grape:\", grocery_list)  # Output: ['apple', 'grape', 'banana', 'cherry', 'orange']\n",
    "\n",
    "# Step 4: User removes the item \"banana\"\n",
    "grocery_list.remove(\"banana\")\n",
    "print(\"After removing banana:\", grocery_list)  # Output: ['apple', 'grape', 'cherry', 'orange']\n",
    "\n",
    "# Step 5: User picks an item from the list (removes item at index 2)\n",
    "popped_item = grocery_list.pop(2)\n",
    "print(\"After popping item at index 2:\", grocery_list)  # Output: ['apple', 'grape', 'orange']\n",
    "print(\"Popped item:\", popped_item)  # Output: cherry\n",
    "\n",
    "# Step 6: Check the length of the grocery list\n",
    "print(\"Total number of items in the list:\", len(grocery_list))  # Output: 3\n",
    "\n",
    "# Step 7: Sort the list alphabetically\n",
    "grocery_list.sort()\n",
    "print(\"Sorted grocery list:\", grocery_list)  # Output: ['apple', 'grape', 'orange']\n"
   ]
  },
  {
   "cell_type": "code",
   "execution_count": 2,
   "id": "0445c8af",
   "metadata": {},
   "outputs": [
    {
     "name": "stdout",
     "output_type": "stream",
     "text": [
      "The role 'Engineer' appears 3 times.\n",
      "The first occurrence of 'Manager' is at index 0.\n"
     ]
    }
   ],
   "source": [
    "# Step 1: Initialize the tuple of employee roles\n",
    "employee_roles = (\"Manager\", \"Engineer\", \"Technician\", \"Engineer\", \"HR\", \"Manager\", \"Engineer\")\n",
    "\n",
    "# Step 2: Count the number of occurrences of the role \"Engineer\"\n",
    "engineer_count = employee_roles.count(\"Engineer\")\n",
    "print(f\"The role 'Engineer' appears {engineer_count} times.\")  # Output: The role 'Engineer' appears 3 times.\n",
    "\n",
    "# Step 3: Find the index of the first occurrence of the role \"Manager\"\n",
    "manager_index = employee_roles.index(\"Manager\")\n",
    "print(f\"The first occurrence of 'Manager' is at index {manager_index}.\")  # Output: The first occurrence of 'Manager' is at index 0\n"
   ]
  },
  {
   "cell_type": "code",
   "execution_count": 3,
   "id": "12584055",
   "metadata": {},
   "outputs": [
    {
     "name": "stdout",
     "output_type": "stream",
     "text": [
      "After adding a book to Fiction: {'The Catcher in the Rye', 'To Kill a Mockingbird', '1984', 'Harry Potter', 'The Hobbit'}\n",
      "After removing a book from Fiction: {'The Catcher in the Rye', 'To Kill a Mockingbird', 'Harry Potter', 'The Hobbit'}\n",
      "After discarding a book from Non-Fiction: {'Becoming', 'Sapiens', 'Educated', 'The Hobbit'}\n",
      "Union of Fiction and Non-Fiction books: {'The Catcher in the Rye', 'To Kill a Mockingbird', 'Becoming', 'Harry Potter', 'Educated', 'The Hobbit', 'Sapiens'}\n",
      "Intersection of Fiction and Non-Fiction books: {'The Hobbit'}\n"
     ]
    }
   ],
   "source": [
    "# Step 1: Initialize the sets of books in Fiction and Non-Fiction sections\n",
    "fiction_books = {\"Harry Potter\", \"The Hobbit\", \"1984\", \"To Kill a Mockingbird\"}\n",
    "non_fiction_books = {\"Sapiens\", \"Educated\", \"Becoming\", \"The Hobbit\"}\n",
    "\n",
    "# Step 2: Add a new book to the Fiction section\n",
    "fiction_books.add(\"The Catcher in the Rye\")\n",
    "print(\"After adding a book to Fiction:\", fiction_books)\n",
    "# Output: {'Harry Potter', 'The Hobbit', '1984', 'To Kill a Mockingbird', 'The Catcher in the Rye'}\n",
    "\n",
    "# Step 3: Remove a book from the Fiction section (raises error if not found)\n",
    "fiction_books.remove(\"1984\")\n",
    "print(\"After removing a book from Fiction:\", fiction_books)\n",
    "# Output: {'Harry Potter', 'The Hobbit', 'To Kill a Mockingbird', 'The Catcher in the Rye'}\n",
    "\n",
    "# Step 4: Discard a book from the Non-Fiction section (does not raise error if not found)\n",
    "non_fiction_books.discard(\"The Great Gatsby\")\n",
    "print(\"After discarding a book from Non-Fiction:\", non_fiction_books)\n",
    "# Output: {'Sapiens', 'Educated', 'Becoming', 'The Hobbit'}\n",
    "\n",
    "# Step 5: Find the union of the Fiction and Non-Fiction sections\n",
    "all_books = fiction_books.union(non_fiction_books)\n",
    "print(\"Union of Fiction and Non-Fiction books:\", all_books)\n",
    "# Output: {'Harry Potter', 'The Hobbit', '1984', 'To Kill a Mockingbird', 'The Catcher in the Rye', 'Sapiens', 'Educated', 'Becoming'}\n",
    "\n",
    "# Step 6: Find the intersection of the Fiction and Non-Fiction sections\n",
    "common_books = fiction_books.intersection(non_fiction_books)\n",
    "print(\"Intersection of Fiction and Non-Fiction books:\", common_books)"
   ]
  },
  {
   "cell_type": "code",
   "execution_count": 4,
   "id": "a9464abd",
   "metadata": {},
   "outputs": [
    {
     "name": "stdout",
     "output_type": "stream",
     "text": [
      "Alice's grade: 85\n",
      "Student names: ['Alice', 'Bob', 'Charlie', 'David', 'Eva']\n",
      "Grades: [85, 92, 78, 88, 95]\n",
      "Student-grade pairs: [('Alice', 85), ('Bob', 92), ('Charlie', 78), ('David', 88), ('Eva', 95)]\n"
     ]
    }
   ],
   "source": [
    "# Step 1: Initialize the dictionary of students and their grades\n",
    "student_grades = {\n",
    "    \"Alice\": 85,\n",
    "    \"Bob\": 92,\n",
    "    \"Charlie\": 78,\n",
    "    \"David\": 88,\n",
    "    \"Eva\": 95\n",
    "}\n",
    "\n",
    "# Step 2: Retrieve the grade of a specific student using get()\n",
    "alice_grade = student_grades.get(\"Alice\")\n",
    "print(f\"Alice's grade: {alice_grade}\")  # Output: Alice's grade: 85\n",
    "\n",
    "# Step 3: Retrieve all the keys (student names) in the dictionary using keys()\n",
    "student_names = student_grades.keys()\n",
    "print(f\"Student names: {list(student_names)}\")  # Output: Student names: ['Alice', 'Bob', 'Charlie', 'David', 'Eva']\n",
    "\n",
    "# Step 4: Retrieve all the values (grades) in the dictionary using values()\n",
    "grades = student_grades.values()\n",
    "print(f\"Grades: {list(grades)}\")  # Output: Grades: [85, 92, 78, 88, 95]\n",
    "\n",
    "# Step 5: Retrieve all the key-value pairs (student and grade) in the dictionary using items()\n",
    "student_grade_pairs = student_grades.items()\n",
    "print(f\"Student-grade pairs: {list(student_grade_pairs)}\")"
   ]
  },
  {
   "cell_type": "code",
   "execution_count": 7,
   "id": "f92d1e95",
   "metadata": {},
   "outputs": [
    {
     "name": "stdout",
     "output_type": "stream",
     "text": [
      "Name: Alice, Age: 22\n",
      "Name: Bob, Age: 24\n",
      "Name: Charlie, Age: 23\n",
      "Sorted students by age:\n",
      "Name: Alice, Age: 22\n",
      "Name: Charlie, Age: 23\n",
      "Name: Bob, Age: 24\n"
     ]
    }
   ],
   "source": [
    "students = [(\"Alice\", 22), (\"Bob\", 24), (\"Charlie\", 23)]\n",
    "for name, age in students:\n",
    "    print(f\"Name: {name}, Age: {age}\")\n",
    "\n",
    "sorted_students = sorted(students, key=lambda student: student[1])\n",
    "\n",
    "print(\"Sorted students by age:\")\n",
    "for name, age in sorted_students:\n",
    "    print(f\"Name: {name}, Age: {age}\")"
   ]
  },
  {
   "cell_type": "code",
   "execution_count": 10,
   "id": "6d89d0f5",
   "metadata": {},
   "outputs": [
    {
     "name": "stdout",
     "output_type": "stream",
     "text": [
      "{'Name': 'John Doe', 'Age': 18, 'Grade': 'A', 'Subjects': ['Math', 'Science', 'History']}\n",
      "Name: John Doe\n",
      "Age: 18\n",
      "Grade: A\n"
     ]
    }
   ],
   "source": [
    "student_info = {\n",
    "    \"Name\": \"John Doe\",\n",
    "    \"Age\": 18,\n",
    "    \"Grade\": \"A\",\n",
    "    \"Subjects\": [\"Math\", \"Science\", \"History\"]\n",
    "}\n",
    "print(student_info)\n",
    "print(\"Name:\", student_info[\"Name\"])\n",
    "print(\"Age:\", student_info[\"Age\"])\n",
    "print(\"Grade:\", student_info[\"Grade\"])"
   ]
  },
  {
   "cell_type": "code",
   "execution_count": 12,
   "id": "1347292d",
   "metadata": {},
   "outputs": [
    {
     "name": "stdout",
     "output_type": "stream",
     "text": [
      "Enter a sentence: apple banana apple orange apple banana\n",
      "Word frequency:\n",
      "apple: 3\n",
      "banana: 2\n",
      "orange: 1\n"
     ]
    }
   ],
   "source": [
    "sentence = input(\"Enter a sentence: \")\n",
    "\n",
    "words = sentence.split()\n",
    "\n",
    "word_freq = {}\n",
    "\n",
    "for word in words:\n",
    "    word_lower = word.lower()\n",
    "    if word_lower in word_freq:\n",
    "        word_freq[word_lower] += 1\n",
    "    else:\n",
    "        word_freq[word_lower] = 1\n",
    "\n",
    "print(\"Word frequency:\")\n",
    "for word, count in word_freq.items():\n",
    "    print(f\"{word}: {count}\")"
   ]
  },
  {
   "cell_type": "code",
   "execution_count": 13,
   "id": "177cc07f",
   "metadata": {},
   "outputs": [
    {
     "name": "stdout",
     "output_type": "stream",
     "text": [
      "All students' marks:\n",
      "Alice: {'Math': 85, 'Science': 90}\n",
      "Bob: {'Math': 78, 'Science': 82}\n",
      "\n",
      "Updated Alice's Math marks:\n",
      "{'Math': 95, 'Science': 90}\n",
      "\n",
      "Added Charlie:\n",
      "Charlie: {'Math': 88, 'Science': 76}\n",
      "\n",
      "Average marks for Alice: 92.5\n"
     ]
    }
   ],
   "source": [
    "student_marks = {\n",
    "    \"Alice\": {\"Math\": 85, \"Science\": 90},\n",
    "    \"Bob\": {\"Math\": 78, \"Science\": 82}\n",
    "}\n",
    "\n",
    "print(\"All students' marks:\")\n",
    "for student, marks in student_marks.items():\n",
    "    print(f\"{student}: {marks}\")\n",
    "\n",
    "student_marks[\"Alice\"][\"Math\"] = 95\n",
    "print(\"\\nUpdated Alice's Math marks:\")\n",
    "print(student_marks[\"Alice\"])\n",
    "\n",
    "student_marks[\"Charlie\"] = {\"Math\": 88, \"Science\": 76}\n",
    "print(\"\\nAdded Charlie:\")\n",
    "print(f\"Charlie: {student_marks['Charlie']}\")\n",
    "\n",
    "def calculate_average(student_name):\n",
    "    if student_name in student_marks:\n",
    "        marks = student_marks[student_name].values()\n",
    "        return sum(marks) / len(marks)\n",
    "    else:\n",
    "        return None\n",
    "\n",
    "student_name = \"Alice\"\n",
    "average = calculate_average(student_name)\n",
    "if average is not None:\n",
    "    print(f\"\\nAverage marks for {student_name}: {average}\")\n",
    "else:\n",
    "    print(f\"\\nStudent {student_name} not found.\")"
   ]
  },
  {
   "cell_type": "code",
   "execution_count": 15,
   "id": "b14bbdf0",
   "metadata": {},
   "outputs": [
    {
     "name": "stdout",
     "output_type": "stream",
     "text": [
      "Merged Dictionary: {'name': 'John', 'age': 22, 'city': 'New York', 'job': 'Engineer'}\n"
     ]
    }
   ],
   "source": [
    "dict1 = {\"name\": \"John\", \"age\": 22}\n",
    "dict2 = {\"city\": \"New York\", \"job\": \"Engineer\"}\n",
    "\n",
    "merged_dict = {**dict1, **dict2}\n",
    "\n",
    "print(\"Merged Dictionary:\", merged_dict)"
   ]
  },
  {
   "cell_type": "code",
   "execution_count": 16,
   "id": "f97fb490",
   "metadata": {},
   "outputs": [
    {
     "name": "stdout",
     "output_type": "stream",
     "text": [
      "Updated inventory: {'apple': 1.5, 'banana': 1.0, 'orange': 1.2}\n"
     ]
    }
   ],
   "source": [
    "inventory = {\"apple\": 1.5, \"banana\": 0.8, \"cherry\": 2.0}\n",
    "\n",
    "inventory[\"orange\"] = 1.2\n",
    "\n",
    "inventory[\"banana\"] = 1.0\n",
    "\n",
    "del inventory[\"cherry\"]\n",
    "\n",
    "print(\"Updated inventory:\", inventory)"
   ]
  },
  {
   "cell_type": "code",
   "execution_count": 17,
   "id": "ca35645a",
   "metadata": {},
   "outputs": [
    {
     "name": "stdout",
     "output_type": "stream",
     "text": [
      "Split into list: ['This', 'is', 'a', 'sample', 'sentence.']\n",
      "Joined back into string: This is a sample sentence.\n"
     ]
    }
   ],
   "source": [
    "sentence = \"This is a sample sentence.\"\n",
    "\n",
    "words_list = sentence.split()\n",
    "\n",
    "joined_sentence = \" \".join(words_list)\n",
    "\n",
    "print(\"Split into list:\", words_list)\n",
    "print(\"Joined back into string:\", joined_sentence)"
   ]
  },
  {
   "cell_type": "code",
   "execution_count": 18,
   "id": "3066070b",
   "metadata": {},
   "outputs": [
    {
     "name": "stdout",
     "output_type": "stream",
     "text": [
      "Enter a person's name: ASAD\n",
      "Sorry, no birthday information found for ASAD.\n"
     ]
    }
   ],
   "source": [
    "birthdays = {\n",
    "    \"John\": \"1990-05-25\",\n",
    "    \"Alice\": \"1985-12-10\",\n",
    "    \"Bob\": \"1992-07-15\",\n",
    "    \"Emma\": \"1995-03-22\"\n",
    "}\n",
    "\n",
    "\n",
    "name = input(\"Enter a person's name: \")\n",
    "\n",
    "if name in birthdays:\n",
    "    print(f\"{name}'s birthday is {birthdays[name]}.\")\n",
    "else:\n",
    "    print(f\"Sorry, no birthday information found for {name}.\")"
   ]
  },
  {
   "cell_type": "code",
   "execution_count": 19,
   "id": "d6a8f1bf",
   "metadata": {},
   "outputs": [
    {
     "name": "stdout",
     "output_type": "stream",
     "text": [
      "Enter an email address: MUHAMMADASAD@GMAIL.COM\n",
      "Username: MUHAMMADASAD\n",
      "Domain: GMAIL.COM\n"
     ]
    }
   ],
   "source": [
    "def extract_email_parts(email):\n",
    "    if '@' in email:\n",
    "        username, domain = email.split('@', 1)\n",
    "        return username, domain\n",
    "    else:\n",
    "        return None, None\n",
    "\n",
    "email_address = input(\"Enter an email address: \")\n",
    "username, domain = extract_email_parts(email_address)\n",
    "\n",
    "if username and domain:\n",
    "    print(f\"Username: {username}\")\n",
    "    print(f\"Domain: {domain}\")\n",
    "else:\n",
    "    print(\"Invalid email address format.\")"
   ]
  },
  {
   "cell_type": "code",
   "execution_count": 20,
   "id": "d3a7709b",
   "metadata": {},
   "outputs": [
    {
     "name": "stdout",
     "output_type": "stream",
     "text": [
      "Enter a string: HELLO WORLD\n",
      "Vowels: 3\n",
      "Consonants: 7\n"
     ]
    }
   ],
   "source": [
    "def count_vowels_consonants(s):\n",
    "    vowels = \"aeiouAEIOU\"\n",
    "    vowel_count = 0\n",
    "    consonant_count = 0\n",
    "    \n",
    "    for char in s:\n",
    "        if char.isalpha():\n",
    "            if char in vowels:\n",
    "                vowel_count += 1\n",
    "            else:\n",
    "                consonant_count += 1\n",
    "    return vowel_count, consonant_count\n",
    "\n",
    "input_string = input(\"Enter a string: \")\n",
    "vowels, consonants = count_vowels_consonants(input_string)\n",
    "print(f\"Vowels: {vowels}\")\n",
    "print(f\"Consonants: {consonants}\")"
   ]
  },
  {
   "cell_type": "code",
   "execution_count": null,
   "id": "4d846bab",
   "metadata": {},
   "outputs": [],
   "source": []
  }
 ],
 "metadata": {
  "kernelspec": {
   "display_name": "Python (CIFAR10)",
   "language": "python",
   "name": "cifar10"
  },
  "language_info": {
   "codemirror_mode": {
    "name": "ipython",
    "version": 3
   },
   "file_extension": ".py",
   "mimetype": "text/x-python",
   "name": "python",
   "nbconvert_exporter": "python",
   "pygments_lexer": "ipython3",
   "version": "3.12.10"
  }
 },
 "nbformat": 4,
 "nbformat_minor": 5
}
