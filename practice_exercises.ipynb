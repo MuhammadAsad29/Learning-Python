{
 "cells": [
  {
   "cell_type": "markdown",
   "id": "ae6dcb0a",
   "metadata": {},
   "source": [
    "# To compute the distance between two points using the Pythagorean Theorem, which can be calculated using the formula:\n",
    "# pythagorean theorem = (((x2 - x1) ^ 2) + ((y2 - y1) ^ 2))* 0.5)"
   ]
  },
  {
   "cell_type": "code",
   "execution_count": 4,
   "id": "32b65611",
   "metadata": {},
   "outputs": [
    {
     "name": "stdout",
     "output_type": "stream",
     "text": [
      "Enter x1: 21\n",
      "Enter x2: 12\n",
      "Enter y1: 11\n",
      "Enter y2: 11\n",
      "The distance between the two points is: 9.0\n"
     ]
    }
   ],
   "source": [
    "# Input coordinates for two points\n",
    "x1 = int(input(\"Enter x1: \"))\n",
    "x2 = int(input(\"Enter x2: \"))\n",
    "y1 = int(input(\"Enter y1: \"))\n",
    "y2 = int(input(\"Enter y2: \"))\n",
    "\n",
    "# Calculate the distance using the Pythagorean Theorem\n",
    "result = ((((x2 - x1) ** 2) + ((y2 - y1) ** 2)) ** 0.5)\n",
    "\n",
    "# Print the result\n",
    "print(f\"The distance between the two points is: {result}\")"
   ]
  },
  {
   "cell_type": "markdown",
   "id": "0099495a",
   "metadata": {},
   "source": [
    "# Program to Subtract, Multiply, and Divide Two Numbers Using Command Line Arguments "
   ]
  },
  {
   "cell_type": "code",
   "execution_count": 5,
   "id": "bbdac836",
   "metadata": {},
   "outputs": [
    {
     "name": "stdout",
     "output_type": "stream",
     "text": [
      "Enter num1: 11\n",
      "Enter num2: 12\n",
      "The sum of 11.0 and 12.0 is: 23.0\n",
      "Subtraction: 11.0 - 12.0 = -1.0\n",
      "Multiplication: 11.0 * 12.0 = 132.0\n",
      "Division: 11.0 / 12.0 = 0.9166666666666666\n"
     ]
    }
   ],
   "source": [
    "import sys\n",
    "# Get the numbers from command-line arguments\n",
    "num1 = float(input(\"Enter num1: \"))\n",
    "num2 = float(input(\"Enter num2: \"))\n",
    "\n",
    "# Calculations\n",
    "sum = num1 + num2\n",
    "subtraction = num1 - num2\n",
    "multiplication = num1 * num2\n",
    "division = num1 / num2 if num2 != 0 else \"undefined (division by zero)\"\n",
    "\n",
    "# Output the result\n",
    "print(f\"The sum of {num1} and {num2} is: {sum}\")\n",
    "print(f\"Subtraction: {num1} - {num2} = {subtraction}\")\n",
    "print(f\"Multiplication: {num1} * {num2} = {multiplication}\")\n",
    "print(f\"Division: {num1} / {num2} = {division}\")"
   ]
  },
  {
   "cell_type": "markdown",
   "id": "4e260c79",
   "metadata": {},
   "source": [
    "# Program to Calculate the Midpoint Between Two Points\n",
    "# Given two points (x₁, y₁) and (x₂, y₂), compute the midpoint using the formula:\n",
    "# Midpoint = ((x1 + x2)/2, (y1 + y2)/2)"
   ]
  },
  {
   "cell_type": "code",
   "execution_count": 6,
   "id": "9b8af2b4",
   "metadata": {},
   "outputs": [
    {
     "name": "stdout",
     "output_type": "stream",
     "text": [
      "Enter x1: 12\n",
      "Enter y1: 12\n",
      "Enter x2: 13\n",
      "Enter y2: 14\n",
      "The midpoint between (12.0, 12.0) and (13.0, 14.0) is (12.5, 13.0)\n"
     ]
    }
   ],
   "source": [
    "# Function to calculate the midpoint\n",
    "def calculate_midpoint(x1, y1, x2, y2):\n",
    "    midpoint_x = (x1 + x2) / 2\n",
    "    midpoint_y = (y1 + y2) / 2\n",
    "    return (midpoint_x, midpoint_y)\n",
    "\n",
    "# Input coordinates\n",
    "x1 = float(input(\"Enter x1: \"))\n",
    "y1 = float(input(\"Enter y1: \"))\n",
    "x2 = float(input(\"Enter x2: \"))\n",
    "y2 = float(input(\"Enter y2: \"))\n",
    "\n",
    "# Calculate midpoint\n",
    "midpoint = calculate_midpoint(x1, y1, x2, y2)\n",
    "\n",
    "# Display the result\n",
    "print(f\"The midpoint between ({x1}, {y1}) and ({x2}, {y2}) is {midpoint}\")"
   ]
  },
  {
   "cell_type": "markdown",
   "id": "634d1c44",
   "metadata": {},
   "source": [
    "# Write a Python program that demonstrates the following string methods:\n",
    "# •\tupper() – Converts the string to uppercase.\n",
    "# •\tlower() – Converts the string to lowercase.\n",
    "# •\treplace() – Replaces a substring with another.\n",
    "# •\tfind() – Finds the position of a substring.\n"
   ]
  },
  {
   "cell_type": "code",
   "execution_count": 7,
   "id": "f854f559",
   "metadata": {},
   "outputs": [
    {
     "name": "stdout",
     "output_type": "stream",
     "text": [
      "Original string: Hello world!\n",
      "Uppercase: HELLO WORLD!\n",
      "Lowercase: hello world!\n",
      "Replaced 'world' with 'Python': Hello Python!\n",
      "Position of 'world': 6\n"
     ]
    }
   ],
   "source": [
    "# Function to demonstrate string methods\n",
    "def demonstrate_string_methods(s):\n",
    "    print(f\"Original string: {s}\")\n",
    "    \n",
    "    # Convert to uppercase\n",
    "    upper_s = s.upper()\n",
    "    print(f\"Uppercase: {upper_s}\")\n",
    "    \n",
    "    # Convert to lowercase\n",
    "    lower_s = s.lower()\n",
    "    print(f\"Lowercase: {lower_s}\")\n",
    "    \n",
    "    # Replace a substring\n",
    "    replaced_s = s.replace(\"world\", \"Python\")\n",
    "    print(f\"Replaced 'world' with 'Python': {replaced_s}\")\n",
    "    \n",
    "    # Find the position of a substring\n",
    "    position = s.find(\"world\")\n",
    "    print(f\"Position of 'world': {position}\")\n",
    "\n",
    "# Input string\n",
    "input_string = \"Hello world!\"\n",
    "\n",
    "# Demonstrate string methods\n",
    "demonstrate_string_methods(input_string)"
   ]
  },
  {
   "cell_type": "markdown",
   "id": "3c652012",
   "metadata": {},
   "source": [
    "# a) Write a Program for checking whether the given number is an even number or not using if else.\n",
    "# b) Check Grade Based on Marks (with Nested Conditions for Grades)"
   ]
  },
  {
   "cell_type": "code",
   "execution_count": 8,
   "id": "be4926b0",
   "metadata": {},
   "outputs": [
    {
     "name": "stdout",
     "output_type": "stream",
     "text": [
      "Enter a number: 22\n",
      "The number 22 is Even.\n",
      "Enter your marks: 21\n",
      "Your grade is F.\n"
     ]
    }
   ],
   "source": [
    "# Function to check if a number is even or odd\n",
    "def check_even_odd(number):\n",
    "    if number % 2 == 0:\n",
    "        return \"Even\"\n",
    "    else:\n",
    "        return \"Odd\"\n",
    "\n",
    "# Input number\n",
    "num = int(input(\"Enter a number: \"))\n",
    "result = check_even_odd(num)\n",
    "print(f\"The number {num} is {result}.\")\n",
    "\n",
    "# Function to determine grade based on marks\n",
    "def determine_grade(marks):\n",
    "    if marks >= 90:\n",
    "        grade = 'A'\n",
    "    elif marks >= 80:\n",
    "        grade = 'B'\n",
    "    elif marks >= 70:\n",
    "        grade = 'C'\n",
    "    elif marks >= 60:\n",
    "        grade = 'D'\n",
    "    else:\n",
    "        grade = 'F'\n",
    "    return grade\n",
    "\n",
    "# Input marks\n",
    "marks = int(input(\"Enter your marks: \"))\n",
    "grade = determine_grade(marks)\n",
    "print(f\"Your grade is {grade}.\")"
   ]
  },
  {
   "cell_type": "markdown",
   "id": "cdaef9bd",
   "metadata": {},
   "source": [
    "# a) Write a Python program that uses a for loop to print the squares of numbers from 1 to 10.\n",
    "# b) Find the sum of all the primes below two million."
   ]
  },
  {
   "cell_type": "code",
   "execution_count": 34,
   "id": "7503f7d3",
   "metadata": {},
   "outputs": [
    {
     "name": "stdout",
     "output_type": "stream",
     "text": [
      "The square of 1 is 1\n",
      "The square of 2 is 4\n",
      "The square of 3 is 9\n",
      "The square of 4 is 16\n",
      "The square of 5 is 25\n",
      "The square of 6 is 36\n",
      "The square of 7 is 49\n",
      "The square of 8 is 64\n",
      "The square of 9 is 81\n",
      "The square of 10 is 100\n",
      "Sum of all primes below 2 million is: 1709600813\n"
     ]
    }
   ],
   "source": [
    "# Print squares of numbers from 1 to 10\n",
    "for i in range(1, 11):\n",
    "    print(f\"The square of {i} is {i**2}\")\n",
    "\n",
    "# Function to check if a number is prime\n",
    "def is_prime(n):\n",
    "    if n < 2:\n",
    "        return False\n",
    "    for m in range(2, int(n**0.5)+1):\n",
    "        if n % m == 0:\n",
    "            return False\n",
    "    return True\n",
    "\n",
    "total = 0\n",
    "for n in range(2, 200000):\n",
    "    if is_prime(n):\n",
    "        total += n\n",
    "\n",
    "print(\"Sum of all primes below 2 million is:\", total)"
   ]
  },
  {
   "cell_type": "markdown",
   "id": "1b5f628b",
   "metadata": {},
   "source": [
    "# Each new term in the Fibonacci sequence is generated by adding the   previous two terms. By starting with 1 and 2, the first 10 terms will be: 1, 2, 3, 5, 8, 13, 21, 34, 55, 89"
   ]
  },
  {
   "cell_type": "code",
   "execution_count": 10,
   "id": "25eeb509",
   "metadata": {},
   "outputs": [
    {
     "name": "stdout",
     "output_type": "stream",
     "text": [
      "The first 10 terms of the Fibonacci sequence are: [1, 2, 3, 5, 8, 13, 21, 34, 55, 89]\n"
     ]
    }
   ],
   "source": [
    "# Generate Fibonacci sequence\n",
    "def fibonacci(n):\n",
    "    fib_sequence = [1, 2]\n",
    "    while len(fib_sequence) < n:\n",
    "        fib_sequence.append(fib_sequence[-1] + fib_sequence[-2])\n",
    "    return fib_sequence\n",
    "\n",
    "# First 10 terms\n",
    "fib_sequence = fibonacci(10)\n",
    "print(f\"The first 10 terms of the Fibonacci sequence are: {fib_sequence}\")"
   ]
  },
  {
   "cell_type": "markdown",
   "id": "5de7ecd0",
   "metadata": {},
   "source": [
    "# Nested loop to print a multiplication table (from 1 to 5)"
   ]
  },
  {
   "cell_type": "code",
   "execution_count": 11,
   "id": "90d1abd1",
   "metadata": {},
   "outputs": [
    {
     "name": "stdout",
     "output_type": "stream",
     "text": [
      "1 x 1 = 1\t1 x 2 = 2\t1 x 3 = 3\t1 x 4 = 4\t1 x 5 = 5\t\n",
      "2 x 1 = 2\t2 x 2 = 4\t2 x 3 = 6\t2 x 4 = 8\t2 x 5 = 10\t\n",
      "3 x 1 = 3\t3 x 2 = 6\t3 x 3 = 9\t3 x 4 = 12\t3 x 5 = 15\t\n",
      "4 x 1 = 4\t4 x 2 = 8\t4 x 3 = 12\t4 x 4 = 16\t4 x 5 = 20\t\n",
      "5 x 1 = 5\t5 x 2 = 10\t5 x 3 = 15\t5 x 4 = 20\t5 x 5 = 25\t\n"
     ]
    }
   ],
   "source": [
    "# Print multiplication table from 1 to 5\n",
    "for i in range(1, 6):\n",
    "    for j in range(1, 6):\n",
    "        print(f\"{i} x {j} = {i * j}\", end=\"\\t\")\n",
    "    print()"
   ]
  },
  {
   "cell_type": "markdown",
   "id": "6687ecff",
   "metadata": {},
   "source": [
    "# a) Looping through a List: Given the list pets = ['dog', 'cat', 'parrot'], write a loop to print each pet with a message (e.g., \"I have a dog\").\n",
    "# b) Write a program that counts how many times the number '5' appears in the list numbers = [1, 2, 5, 5, 3, 5, 4]\n",
    "# c) Given the list countries = ['USA', 'Canada', 'Mexico', 'Brazil'], write a code snippet to print the second and fourth items."
   ]
  },
  {
   "cell_type": "code",
   "execution_count": 12,
   "id": "9f5beaf4",
   "metadata": {},
   "outputs": [
    {
     "name": "stdout",
     "output_type": "stream",
     "text": [
      "I have a dog\n",
      "I have a cat\n",
      "I have a parrot\n",
      "The number 5 appears 3 times in the list.\n",
      "The second country is Canada\n",
      "The fourth country is Brazil\n"
     ]
    }
   ],
   "source": [
    "pets = ['dog', 'cat', 'parrot']\n",
    "for pet in pets:\n",
    "    print(f\"I have a {pet}\")\n",
    "\n",
    "numbers = [1, 2, 5, 5, 3, 5, 4]\n",
    "count_5 = numbers.count(5)\n",
    "print(f\"The number 5 appears {count_5} times in the list.\")\n",
    "\n",
    "countries = ['USA', 'Canada', 'Mexico', 'Brazil']\n",
    "print(f\"The second country is {countries[1]}\")\n",
    "print(f\"The fourth country is {countries[3]}\")"
   ]
  },
  {
   "cell_type": "markdown",
   "id": "ebae1204",
   "metadata": {},
   "source": [
    "# a) Function to reverse a list:\n",
    "# b) Function to check if two balls are colliding:\n",
    "# Hint: Represent a ball on a plane as a tuple of (x, y, r), r being the radius. If (distance between two balls centers) <= (sum of their radii) then (they are colliding)"
   ]
  },
  {
   "cell_type": "code",
   "execution_count": 13,
   "id": "ecec122d",
   "metadata": {},
   "outputs": [
    {
     "name": "stdout",
     "output_type": "stream",
     "text": [
      "The reversed list is: [5, 4, 3, 2, 1]\n",
      "Are the balls colliding? True\n"
     ]
    }
   ],
   "source": [
    "# Function to reverse a list\n",
    "def reverse_list(lst):\n",
    "    return lst[::-1]\n",
    "\n",
    "# Example list\n",
    "example_list = [1, 2, 3, 4, 5]\n",
    "reversed_list = reverse_list(example_list)\n",
    "print(f\"The reversed list is: {reversed_list}\")\n",
    "\n",
    "import math\n",
    "\n",
    "# Function to check if two balls are colliding\n",
    "def ball_collide(ball1, ball2):\n",
    "    x1, y1, r1 = ball1\n",
    "    x2, y2, r2 = ball2\n",
    "    distance = math.sqrt((x2 - x1)**2 + (y2 - y1)**2)\n",
    "    return distance <= (r1 + r2)\n",
    "\n",
    "# Example balls\n",
    "ball1 = (0, 0, 5)\n",
    "ball2 = (4, 3, 5)\n",
    "collision = ball_collide(ball1, ball2)\n",
    "print(f\"Are the balls colliding? {collision}\")"
   ]
  },
  {
   "cell_type": "markdown",
   "id": "c9fb1485",
   "metadata": {},
   "source": [
    "# 1.\tCreate a list of tuples to store the names and ages of students. Example:\n",
    "# students = [(\"Alice\", 22), (\"Bob\", 24), (\"Charlie\", 23)]\n",
    "# 2.\tLoop through the list and print each student's name and age.\n",
    "# 3.\tSort the list by the students' age and print the sorted list."
   ]
  },
  {
   "cell_type": "code",
   "execution_count": 14,
   "id": "67387056",
   "metadata": {},
   "outputs": [
    {
     "name": "stdout",
     "output_type": "stream",
     "text": [
      "Name: Alice, Age: 22\n",
      "Name: Bob, Age: 24\n",
      "Name: Charlie, Age: 23\n",
      "Sorted by age: [('Alice', 22), ('Charlie', 23), ('Bob', 24)]\n"
     ]
    }
   ],
   "source": [
    "students = [(\"Alice\", 22), (\"Bob\", 24), (\"Charlie\", 23)]\n",
    "\n",
    "# Print each student's name and age\n",
    "for name, age in students:\n",
    "    print(f\"Name: {name}, Age: {age}\")\n",
    "\n",
    "# Sort by age\n",
    "sorted_students = sorted(students, key=lambda x: x[1])\n",
    "print(\"Sorted by age:\", sorted_students)"
   ]
  },
  {
   "cell_type": "markdown",
   "id": "407ba408",
   "metadata": {},
   "source": [
    "# 1.\tCreate a dictionary called student_info that stores the following details for a student:\n",
    "# •\tName (e.g., \"John Doe\")\n",
    "# •\tAge (e.g., 18)\n",
    "# •\tGrade (e.g., \"A\")\n",
    "# •\tSubjects (e.g., [\"Math\", \"Science\", \"History\"])\n",
    "# 2.\tPrint the entire dictionary.\n",
    "# 3.\tRetrieve and print the student’s Name, Age, and Grade from the dictionary."
   ]
  },
  {
   "cell_type": "code",
   "execution_count": 15,
   "id": "74ff6043",
   "metadata": {},
   "outputs": [
    {
     "name": "stdout",
     "output_type": "stream",
     "text": [
      "Student Dictionary: {'Name': 'John Doe', 'Age': 18, 'Grade': 'A', 'Subjects': ['Math', 'Science', 'History']}\n",
      "Name: John Doe\n",
      "Age: 18\n",
      "Grade: A\n"
     ]
    }
   ],
   "source": [
    "student_info = {\n",
    "    \"Name\": \"John Doe\",\n",
    "    \"Age\": 18,\n",
    "    \"Grade\": \"A\",\n",
    "    \"Subjects\": [\"Math\", \"Science\", \"History\"]\n",
    "}\n",
    "\n",
    "print(\"Student Dictionary:\", student_info)\n",
    "print(\"Name:\", student_info[\"Name\"])\n",
    "print(\"Age:\", student_info[\"Age\"])\n",
    "print(\"Grade:\", student_info[\"Grade\"])"
   ]
  },
  {
   "cell_type": "markdown",
   "id": "1eb5d3a1",
   "metadata": {},
   "source": [
    "# 1.\tWrite a Python program that takes a sentence as input from the user.\n",
    "# 2.\tConvert the sentence into a list of words.\n",
    "# 3.\tCreate an empty dictionary to store the frequency of each word.\n",
    "# 4.\tLoop through the list and count how many times each word appears.\n",
    "# 5.\tPrint the word frequency."
   ]
  },
  {
   "cell_type": "code",
   "execution_count": 16,
   "id": "a19c4630",
   "metadata": {},
   "outputs": [
    {
     "name": "stdout",
     "output_type": "stream",
     "text": [
      "apple: 3\n",
      "banana: 2\n",
      "orange: 1\n"
     ]
    }
   ],
   "source": [
    "sentence = \"apple banana apple orange apple banana\"\n",
    "words = sentence.split()\n",
    "word_count = {}\n",
    "\n",
    "for word in words:\n",
    "    word_count[word] = word_count.get(word, 0) + 1\n",
    "\n",
    "for word, count in word_count.items():\n",
    "    print(f\"{word}: {count}\")"
   ]
  },
  {
   "cell_type": "markdown",
   "id": "7a964e50",
   "metadata": {},
   "source": [
    "# 1.\tCreate a dictionary called student_marks where the student names are the keys (e.g., \"Alice\", \"Bob\") and the values are their respective marks in different subjects (e.g., {\"Math\": 85, \"Science\": 90}).\n",
    "# 2.\tPrint the marks of all students.\n",
    "# 3.\tUpdate the marks of a student (e.g., if \"Alice\" got 95 in Math).\n",
    "# 4.\tAdd a new student to the dictionary with their marks.\n",
    "# 5.\tWrite a function to calculate and return the average marks for a given student."
   ]
  },
  {
   "cell_type": "code",
   "execution_count": 2,
   "id": "147d6d09",
   "metadata": {},
   "outputs": [
    {
     "name": "stdout",
     "output_type": "stream",
     "text": [
      "All Students' Marks: {'Alice': {'Math': 85, 'Science': 90}, 'Bob': {'Math': 75, 'Science': 80}}\n",
      "Updated Marks: {'Alice': {'Math': 95, 'Science': 90}, 'Bob': {'Math': 75, 'Science': 80}, 'Charlie': {'Math': 88, 'Science': 92}}\n",
      "Charlie's average: 90.0\n"
     ]
    }
   ],
   "source": [
    "student_marks = {\n",
    "    \"Alice\": {\"Math\": 85, \"Science\": 90},\n",
    "    \"Bob\": {\"Math\": 75, \"Science\": 80}\n",
    "}\n",
    "\n",
    "# Print all marks\n",
    "print(\"All Students' Marks:\", student_marks)\n",
    "\n",
    "# Update marks\n",
    "student_marks[\"Alice\"][\"Math\"] = 95\n",
    "\n",
    "# Add new student\n",
    "student_marks[\"Charlie\"] = {\"Math\": 88, \"Science\": 92}\n",
    "\n",
    "# Function to calculate average\n",
    "def average_marks(student_name):\n",
    "    marks = student_marks[student_name].values()\n",
    "    return sum(marks) / len(marks)\n",
    "\n",
    "print(\"Updated Marks:\", student_marks)\n",
    "print(\"Charlie's average:\", average_marks(\"Charlie\"))"
   ]
  },
  {
   "cell_type": "markdown",
   "id": "7e63d801",
   "metadata": {},
   "source": [
    "# 1.\tCreate two dictionaries:\n",
    "# dict1 = {\"name\": \"John\", \"age\": 22}\n",
    "# dict2 = {\"city\": \"New York\", \"job\": \"Engineer\"}\n",
    "# 2.\tMerge these two dictionaries into a new dictionary called merged_dict.\n",
    "# 3.\tPrint the merged_dict."
   ]
  },
  {
   "cell_type": "code",
   "execution_count": 20,
   "id": "9050b801",
   "metadata": {},
   "outputs": [
    {
     "name": "stdout",
     "output_type": "stream",
     "text": [
      "Merged Dictionary: {'name': 'John', 'age': 22, 'city': 'New York', 'job': 'Engineer'}\n"
     ]
    }
   ],
   "source": [
    "dict1 = {\"name\": \"John\", \"age\": 22}\n",
    "dict2 = {\"city\": \"New York\", \"job\": \"Engineer\"}\n",
    "\n",
    "merged_dict = {**dict1, **dict2}\n",
    "print(\"Merged Dictionary:\", merged_dict)"
   ]
  },
  {
   "cell_type": "markdown",
   "id": "f3df5962",
   "metadata": {},
   "source": [
    "# 1.\tCreate a dictionary called inventory to store the items in a store with their prices:\n",
    "# {\"apple\": 1.5, \"banana\": 0.8, \"cherry\": 2.0}\n",
    "# 2.\tAdd a new item to the inventory (e.g., \"orange\" with a price of 1.2).\n",
    "# 3.\tUpdate the price of an existing item (e.g., update the price of \"banana\" to 1.0).\n",
    "# 4.\tRemove an item from the inventory (e.g., remove \"cherry\").\n",
    "# 5.\tPrint the updated inventory."
   ]
  },
  {
   "cell_type": "code",
   "execution_count": 21,
   "id": "a3ad90ee",
   "metadata": {},
   "outputs": [
    {
     "name": "stdout",
     "output_type": "stream",
     "text": [
      "Updated Inventory: {'apple': 1.5, 'banana': 1.0, 'orange': 1.2}\n"
     ]
    }
   ],
   "source": [
    "inventory = {\"apple\": 1.5, \"banana\": 0.8, \"cherry\": 2.0}\n",
    "\n",
    "# Add\n",
    "inventory[\"orange\"] = 1.2\n",
    "\n",
    "# Update\n",
    "inventory[\"banana\"] = 1.0\n",
    "\n",
    "# Remove\n",
    "inventory.pop(\"cherry\")\n",
    "\n",
    "print(\"Updated Inventory:\", inventory)"
   ]
  },
  {
   "cell_type": "markdown",
   "id": "319dbfef",
   "metadata": {},
   "source": [
    "# Using split() and join() Methods\n",
    "# Demonstrate how to split a string into a list of words and then join them back together. This is a common task for manipulating and processing strings."
   ]
  },
  {
   "cell_type": "code",
   "execution_count": 22,
   "id": "23d88cd1",
   "metadata": {},
   "outputs": [
    {
     "name": "stdout",
     "output_type": "stream",
     "text": [
      "Split words: ['Happy', 'Birthday', 'Alice,', 'I', 'hope', 'you', 'have', 'a', 'great', 'day!']\n",
      "Joined sentence: Happy Birthday Alice, I hope you have a great day!\n"
     ]
    }
   ],
   "source": [
    "sentence = \"Happy Birthday Alice, I hope you have a great day!\"\n",
    "split_words = sentence.split()\n",
    "joined_sentence = \" \".join(split_words)\n",
    "\n",
    "print(\"Split words:\", split_words)\n",
    "print(\"Joined sentence:\", joined_sentence)"
   ]
  },
  {
   "cell_type": "markdown",
   "id": "21d12d7d",
   "metadata": {},
   "source": [
    "# Create a dictionary to store people's names as keys and their birthdays as values.\n",
    "# The dictionary will be used to lookup someone's birthday based on their name.\n",
    "# •\tKeys are people's names (e.g., \"John\", \"Alice\").\n",
    "# •\tValues are their birthdays in the format \"YYYY-MM-DD\" (e.g., \"1990-05-25\").\n",
    "# The user can input a name, and the program will look up and print the corresponding birthday."
   ]
  },
  {
   "cell_type": "code",
   "execution_count": 23,
   "id": "02f0ed04",
   "metadata": {},
   "outputs": [
    {
     "name": "stdout",
     "output_type": "stream",
     "text": [
      "Alice's birthday is 1990-05-25\n"
     ]
    }
   ],
   "source": [
    "birthdays = {\n",
    "    \"John\": \"1995-08-15\",\n",
    "    \"Alice\": \"1990-05-25\",\n",
    "    \"Bob\": \"1998-12-01\"\n",
    "}\n",
    "\n",
    "name_input = \"alice\"\n",
    "birthday = birthdays.get(name_input.capitalize())\n",
    "\n",
    "if birthday:\n",
    "    print(f\"{name_input.capitalize()}'s birthday is {birthday}\")\n",
    "else:\n",
    "    print(\"Birthday not found.\")"
   ]
  },
  {
   "cell_type": "markdown",
   "id": "4fa00552",
   "metadata": {},
   "source": [
    "# Extract Email Username and Domain\n",
    "# Write a function that takes an email address as input and extracts the username and domain separately."
   ]
  },
  {
   "cell_type": "code",
   "execution_count": 24,
   "id": "3a8dd507",
   "metadata": {},
   "outputs": [
    {
     "name": "stdout",
     "output_type": "stream",
     "text": [
      "Username: user, Domain: example.com\n"
     ]
    }
   ],
   "source": [
    "# Function to extract username and domain from an email address\n",
    "def extract_email_info(email):\n",
    "    username, domain = email.split(\"@\")\n",
    "    return username, domain\n",
    "\n",
    "# Example usage\n",
    "email = \"user@example.com\"\n",
    "username, domain = extract_email_info(email)\n",
    "print(f\"Username: {username}, Domain: {domain}\")"
   ]
  },
  {
   "cell_type": "markdown",
   "id": "f032746d",
   "metadata": {},
   "source": [
    "# Count Vowels and Consonants\n",
    "# Write a Python function that counts the number of vowels and consonants in a given string."
   ]
  },
  {
   "cell_type": "code",
   "execution_count": 25,
   "id": "f01ee79b",
   "metadata": {},
   "outputs": [
    {
     "name": "stdout",
     "output_type": "stream",
     "text": [
      "Vowels: 3\n",
      "Consonants: 7\n"
     ]
    }
   ],
   "source": [
    "def count_vowels_consonants(text):\n",
    "    vowels = 'aeiouAEIOU'\n",
    "    v = c = 0\n",
    "    for char in text:\n",
    "        if char.isalpha():\n",
    "            if char in vowels:\n",
    "                v += 1\n",
    "            else:\n",
    "                c += 1\n",
    "    print(\"Vowels:\", v)\n",
    "    print(\"Consonants:\", c)\n",
    "\n",
    "# Test\n",
    "count_vowels_consonants(\"Hello World!\")"
   ]
  },
  {
   "cell_type": "markdown",
   "id": "d31ae642",
   "metadata": {},
   "source": [
    "# Create a class Rectangle that takes width and height as attributes. Implement the following methods:\n",
    "# 1.\tarea(): Returns the area of the rectangle.\n",
    "# 2.\tperimeter(): Returns the perimeter of the rectangle."
   ]
  },
  {
   "cell_type": "code",
   "execution_count": 26,
   "id": "e6f34593",
   "metadata": {},
   "outputs": [
    {
     "name": "stdout",
     "output_type": "stream",
     "text": [
      "Area: 50\n",
      "Perimeter: 30\n"
     ]
    }
   ],
   "source": [
    "class Rectangle:\n",
    "    def __init__(self, width, height):\n",
    "        self.width = width\n",
    "        self.height = height\n",
    "\n",
    "    def area(self):\n",
    "        return self.width * self.height\n",
    "\n",
    "    def perimeter(self):\n",
    "        return 2 * (self.width + self.height)\n",
    "\n",
    "\n",
    "# Testing\n",
    "rect = Rectangle(10, 5)\n",
    "print(\"Area:\", rect.area())\n",
    "print(\"Perimeter:\", rect.perimeter())"
   ]
  },
  {
   "cell_type": "markdown",
   "id": "f5ccf959",
   "metadata": {},
   "source": [
    "# Create a class BankAccount that simulates a bank account. The class should have:\n",
    "# 1.\tA constructor to initialize the account holder's name and balance.\n",
    "# 2.\tA method deposit() to add money to the account.\n",
    "# 3.\tA method withdraw() to subtract money from the account.\n",
    "# 4.\tA method display_balance() to display the current balance."
   ]
  },
  {
   "cell_type": "code",
   "execution_count": 27,
   "id": "ae527baa",
   "metadata": {},
   "outputs": [
    {
     "name": "stdout",
     "output_type": "stream",
     "text": [
      "Fizza's Balance: 1000\n",
      "Deposited: 500\n",
      "Withdrawn: 300\n",
      "Fizza's Balance: 1200\n"
     ]
    }
   ],
   "source": [
    "class BankAccount:\n",
    "    def __init__(self, name, balance):\n",
    "        self.name = name\n",
    "        self.balance = balance\n",
    "\n",
    "    def deposit(self, amount):\n",
    "        self.balance += amount\n",
    "        print(f\"Deposited: {amount}\")\n",
    "\n",
    "    def withdraw(self, amount):\n",
    "        if amount <= self.balance:\n",
    "            self.balance -= amount\n",
    "            print(f\"Withdrawn: {amount}\")\n",
    "        else:\n",
    "            print(\"Insufficient balance.\")\n",
    "\n",
    "    def display_balance(self):\n",
    "        print(f\"{self.name}'s Balance: {self.balance}\")\n",
    "\n",
    "\n",
    "# Testing\n",
    "account = BankAccount(\"Fizza\", 1000)\n",
    "account.display_balance()\n",
    "account.deposit(500)\n",
    "account.withdraw(300)\n",
    "account.display_balance()"
   ]
  },
  {
   "cell_type": "markdown",
   "id": "3510ade9",
   "metadata": {},
   "source": [
    "# Demonstrates basic class and object concepts in OOP. Creates Car objects. Uses constructors to initialize car attributes (e.g., make, model, year, and color). Implements methods to perform actions on cars, such as starting the car, stopping the car, and displaying car information."
   ]
  },
  {
   "cell_type": "code",
   "execution_count": 28,
   "id": "61a07ff3",
   "metadata": {},
   "outputs": [
    {
     "name": "stdout",
     "output_type": "stream",
     "text": [
      "Toyota Corolla started.\n",
      "Car Info: 2020 White Toyota Corolla\n",
      "Toyota Corolla stopped.\n"
     ]
    }
   ],
   "source": [
    "class Car:\n",
    "    def __init__(self, make, model, year, color):\n",
    "        self.make = make\n",
    "        self.model = model\n",
    "        self.year = year\n",
    "        self.color = color\n",
    "\n",
    "    def start(self):\n",
    "        print(f\"{self.make} {self.model} started.\")\n",
    "\n",
    "    def stop(self):\n",
    "        print(f\"{self.make} {self.model} stopped.\")\n",
    "\n",
    "    def display_info(self):\n",
    "        print(f\"Car Info: {self.year} {self.color} {self.make} {self.model}\")\n",
    "\n",
    "\n",
    "# Testing\n",
    "car1 = Car(\"Toyota\", \"Corolla\", 2020, \"White\")\n",
    "car1.start()\n",
    "car1.display_info()\n",
    "car1.stop()"
   ]
  },
  {
   "cell_type": "markdown",
   "id": "58d4d63b",
   "metadata": {},
   "source": [
    "# You are tasked with building a basic class structure for an online retail system. The system will have different types of products, such as Electronics, Clothing, and Groceries. Each product should have: (name, price, category). A method for calculating the discounted price (some products may have discounts, some may not).\n",
    "# In this task, you will:\n",
    "# 1.\tCreate a base class Product with common attributes and methods.\n",
    "# 2.\tCreate subclasses for different types of products (e.g., Electronics, Clothing, and Groceries), where each subclass overrides certain methods to fit the specific behavior of that product type.\n",
    "# 3.\tDemonstrate polymorphism by defining a method to calculate the final price (original price with discounts) that works for all products, but behaves differently depending on the type of product. It should have a method get_discounted_price() which returns the original price (this method can be overridden by subclasses).\n",
    "# 4.\tImplement a show_product_info method to display the details of each product like name, price, and category."
   ]
  },
  {
   "cell_type": "code",
   "execution_count": 29,
   "id": "9b975d22",
   "metadata": {},
   "outputs": [
    {
     "name": "stdout",
     "output_type": "stream",
     "text": [
      "Name: Laptop, Price: 1000, Category: Electronics\n",
      "Discounted Price: 900.0\n",
      "------------------------------\n",
      "Name: T-Shirt, Price: 500, Category: Clothing\n",
      "Discounted Price: 400.0\n",
      "------------------------------\n",
      "Name: Apple, Price: 200, Category: Groceries\n",
      "Discounted Price: 200\n",
      "------------------------------\n"
     ]
    }
   ],
   "source": [
    "class Product:\n",
    "    def __init__(self, name, price, category):\n",
    "        self.name = name\n",
    "        self.price = price\n",
    "        self.category = category\n",
    "\n",
    "    def get_discounted_price(self):\n",
    "        return self.price\n",
    "\n",
    "    def show_product_info(self):\n",
    "        print(f\"Name: {self.name}, Price: {self.price}, Category: {self.category}\")\n",
    "\n",
    "\n",
    "class Electronics(Product):\n",
    "    def get_discounted_price(self):\n",
    "        return self.price * 0.90  # 10% discount\n",
    "\n",
    "\n",
    "class Clothing(Product):\n",
    "    def get_discounted_price(self):\n",
    "        return self.price * 0.80  # 20% discount\n",
    "\n",
    "\n",
    "class Groceries(Product):\n",
    "    def get_discounted_price(self):\n",
    "        return self.price  # No discount\n",
    "\n",
    "\n",
    "# Testing\n",
    "products = [\n",
    "    Electronics(\"Laptop\", 1000, \"Electronics\"),\n",
    "    Clothing(\"T-Shirt\", 500, \"Clothing\"),\n",
    "    Groceries(\"Apple\", 200, \"Groceries\")\n",
    "]\n",
    "\n",
    "for product in products:\n",
    "    product.show_product_info()\n",
    "    print(\"Discounted Price:\", product.get_discounted_price())\n",
    "    print(\"-\" * 30)"
   ]
  },
  {
   "cell_type": "markdown",
   "id": "7f678b70",
   "metadata": {},
   "source": [
    "# Create a class BankAccount with these attributes: owner (public), __balance(private). Implement a getter method get_balance() to retrieve the balance. Implement a setter method deposit(amount) to deposit money into the account, ensuring that the amount is positive. Implement a withdraw method withdraw(amount) to withdraw money from the account, ensuring that the withdrawal does not exceed the current balance and that the amount is positive. The __balance attribute should be private, meaning it cannot be accessed directly outside of the class. Use getter and setter methods to access and modify the __balance. Testing: Create a BankAccount object, deposit money, withdraw money, and display the balance. Try accessing the private __balance directly and observe the behavior (it should raise an error)."
   ]
  },
  {
   "cell_type": "code",
   "execution_count": 30,
   "id": "726ffd1c",
   "metadata": {},
   "outputs": [
    {
     "name": "stdout",
     "output_type": "stream",
     "text": [
      "Deposited: 200\n",
      "Withdrawn: 300\n",
      "Balance: 900\n",
      "Error: 'BankAccount' object has no attribute '__balance'\n"
     ]
    }
   ],
   "source": [
    "class BankAccount:\n",
    "    def __init__(self, owner, balance):\n",
    "        self.owner = owner\n",
    "        self.__balance = balance\n",
    "\n",
    "    def get_balance(self):\n",
    "        return self.__balance\n",
    "\n",
    "    def deposit(self, amount):\n",
    "        if amount > 0:\n",
    "            self.__balance += amount\n",
    "            print(f\"Deposited: {amount}\")\n",
    "        else:\n",
    "            print(\"Deposit amount must be positive.\")\n",
    "\n",
    "    def withdraw(self, amount):\n",
    "        if amount > 0 and amount <= self.__balance:\n",
    "            self.__balance -= amount\n",
    "            print(f\"Withdrawn: {amount}\")\n",
    "        else:\n",
    "            print(\"Invalid withdrawal amount.\")\n",
    "\n",
    "\n",
    "# Testing\n",
    "account = BankAccount(\"Fizza\", 1000)\n",
    "account.deposit(200)\n",
    "account.withdraw(300)\n",
    "print(\"Balance:\", account.get_balance())\n",
    "\n",
    "# Trying to access private variable directly (will cause error)\n",
    "try:\n",
    "    print(account.__balance)\n",
    "except AttributeError as e:\n",
    "    print(\"Error:\", e)"
   ]
  },
  {
   "cell_type": "code",
   "execution_count": null,
   "id": "e46c1c1e",
   "metadata": {},
   "outputs": [],
   "source": []
  }
 ],
 "metadata": {
  "kernelspec": {
   "display_name": "Python (CIFAR10)",
   "language": "python",
   "name": "cifar10"
  },
  "language_info": {
   "codemirror_mode": {
    "name": "ipython",
    "version": 3
   },
   "file_extension": ".py",
   "mimetype": "text/x-python",
   "name": "python",
   "nbconvert_exporter": "python",
   "pygments_lexer": "ipython3",
   "version": "3.12.10"
  }
 },
 "nbformat": 4,
 "nbformat_minor": 5
}
