{
 "cells": [
  {
   "cell_type": "code",
   "execution_count": 3,
   "metadata": {
    "colab": {
     "base_uri": "https://localhost:8080/"
    },
    "id": "Pznq_rIyzZdU",
    "outputId": "77fa2dcd-456c-4e12-e6d4-bc92776eea6e"
   },
   "outputs": [
    {
     "name": "stdout",
     "output_type": "stream",
     "text": [
      "Car Info: Honda Civic 2022\n"
     ]
    }
   ],
   "source": [
    "class Car:\n",
    "  def __init__(self,make,model,year):\n",
    "    self.make = make\n",
    "    self.model = model\n",
    "    self.year = year\n",
    "\n",
    "  def display_info(self):\n",
    "   print(f\"Car Info: {self.make} {self.model} {self.year}\")\n",
    "\n",
    "#create an object of Car\n",
    "car1 = Car(\"Honda\", \"Civic\", 2022)\n",
    "car1.display_info()"
   ]
  },
  {
   "cell_type": "code",
   "execution_count": 8,
   "metadata": {
    "colab": {
     "base_uri": "https://localhost:8080/"
    },
    "id": "1g2xEmmz3NwO",
    "outputId": "b728b915-9b99-4d0b-bb19-182321c7c5a9"
   },
   "outputs": [
    {
     "name": "stdout",
     "output_type": "stream",
     "text": [
      "Student Info: Abdul Rafay, 21 years old, Grade: A\n"
     ]
    }
   ],
   "source": [
    "class Student:\n",
    "    def __init__(self, name, age, grade):\n",
    "        self.name = name\n",
    "        self.age = age\n",
    "        self.grade = grade\n",
    "\n",
    "    def display_student_info(self):\n",
    "        print(f\"Student Info: {self.name}, {self.age} years old, Grade: {self.grade}\")\n",
    "\n",
    "# Create an object of Student\n",
    "student1 = Student(\"Abdul Rafay\", 21, \"A\")\n",
    "student1.display_student_info()"
   ]
  },
  {
   "cell_type": "code",
   "execution_count": 9,
   "metadata": {
    "colab": {
     "base_uri": "https://localhost:8080/"
    },
    "id": "C5R6rsWK5pGN",
    "outputId": "2f2dfc8a-8a53-44a7-e758-7a84bb65c0d6"
   },
   "outputs": [
    {
     "name": "stdout",
     "output_type": "stream",
     "text": [
      "Manager Info: Abdul Rafay, Salary: 10000, Department: Manager\n"
     ]
    }
   ],
   "source": [
    "class Employee:\n",
    "    def __init__(self, name, salary):\n",
    "        self.name = name\n",
    "        self.salary = salary\n",
    "\n",
    "class Manager(Employee):\n",
    "    def __init__(self, name, salary, department):\n",
    "        super().__init__(name, salary)\n",
    "        self.department = department\n",
    "\n",
    "    def display_manager_info(self):\n",
    "        print(f\"Manager Info: {self.name}, Salary: {self.salary}, Department: {self.department}\")\n",
    "\n",
    "# Create an object of Manager\n",
    "manager1 = Manager(\"Abdul Rafay\", 10000, \"Manager\")\n",
    "manager1.display_manager_info()\n"
   ]
  },
  {
   "cell_type": "code",
   "execution_count": 10,
   "metadata": {
    "colab": {
     "base_uri": "https://localhost:8080/"
    },
    "id": "IrEPi6pa6CeL",
    "outputId": "caa756ed-f9e1-4bdd-d820-cc204386726a"
   },
   "outputs": [
    {
     "name": "stdout",
     "output_type": "stream",
     "text": [
      "Woof\n",
      "Meow\n"
     ]
    }
   ],
   "source": [
    "class Dog:\n",
    "    def speak(self):\n",
    "        return \"Woof\"\n",
    "\n",
    "class Cat:\n",
    "    def speak(self):\n",
    "        return \"Meow\"\n",
    "\n",
    "# Create objects\n",
    "dog = Dog()\n",
    "cat = Cat()\n",
    "\n",
    "# Polymorphism - calling speak() on different objects\n",
    "print(dog.speak())  # Output: Woof\n",
    "print(cat.speak())  # Output: Meow\n"
   ]
  },
  {
   "cell_type": "code",
   "execution_count": 11,
   "metadata": {
    "colab": {
     "base_uri": "https://localhost:8080/"
    },
    "id": "WTBEY18A6P-b",
    "outputId": "eb2ff18b-21a7-49c6-e9fd-53e9c9980f11"
   },
   "outputs": [
    {
     "name": "stdout",
     "output_type": "stream",
     "text": [
      "StandardDelivery:\n",
      "  Cost: $6.0\n",
      "  Estimated Delivery Time: Standard delivery time: 5 days\n",
      "\n",
      "ExpressDelivery:\n",
      "  Cost: $12.0\n",
      "  Estimated Delivery Time: Express delivery time: 2 days\n",
      "\n",
      "InternationalDelivery:\n",
      "  Cost: $24.0\n",
      "  Estimated Delivery Time: International delivery time: 14 days\n",
      "\n"
     ]
    }
   ],
   "source": [
    "# Base class representing a delivery\n",
    "class Delivery:\n",
    "    def __init__(self, weight, destination):\n",
    "        self.weight = weight\n",
    "        self.destination = destination\n",
    "\n",
    "    def calculate_cost(self):\n",
    "        # Default delivery cost calculation (to be overridden by subclasses)\n",
    "        raise NotImplementedError(\"This method should be overridden by subclasses\")\n",
    "\n",
    "    def estimated_delivery_time(self):\n",
    "        # Default estimated time (to be overridden by subclasses)\n",
    "        return \"Standard time: 7 days\"\n",
    "\n",
    "\n",
    "# Derived class for standard delivery\n",
    "class StandardDelivery(Delivery):\n",
    "    def calculate_cost(self):\n",
    "        return 5 + (self.weight * 0.5)  # Cost formula for standard delivery\n",
    "\n",
    "    def estimated_delivery_time(self):\n",
    "        return \"Standard delivery time: 5 days\"\n",
    "\n",
    "\n",
    "# Derived class for express delivery\n",
    "class ExpressDelivery(Delivery):\n",
    "    def calculate_cost(self):\n",
    "        return 10 + (self.weight * 1.0)  # Cost formula for express delivery\n",
    "\n",
    "    def estimated_delivery_time(self):\n",
    "        return \"Express delivery time: 2 days\"\n",
    "\n",
    "\n",
    "# Derived class for international delivery\n",
    "class InternationalDelivery(Delivery):\n",
    "    def calculate_cost(self):\n",
    "        return 20 + (self.weight * 2.0)  # Cost formula for international delivery\n",
    "\n",
    "    def estimated_delivery_time(self):\n",
    "        return \"International delivery time: 14 days\"\n",
    "\n",
    "\n",
    "# Create instances of different delivery methods\n",
    "deliveries = [\n",
    "    StandardDelivery(2, \"New York\"),\n",
    "    ExpressDelivery(2, \"New York\"),\n",
    "    InternationalDelivery(2, \"London\")\n",
    "]\n",
    "\n",
    "# Print out the delivery cost and estimated delivery time for each\n",
    "for delivery in deliveries:\n",
    "    print(f\"{delivery.__class__.__name__}:\")\n",
    "    print(f\"  Cost: ${delivery.calculate_cost()}\")\n",
    "    print(f\"  Estimated Delivery Time: {delivery.estimated_delivery_time()}\")\n",
    "    print()\n"
   ]
  },
  {
   "cell_type": "code",
   "execution_count": 2,
   "metadata": {
    "colab": {
     "base_uri": "https://localhost:8080/",
     "height": 106
    },
    "id": "NiNY588l6aV7",
    "outputId": "689591e7-20dd-4855-e259-d7f9438e4974"
   },
   "outputs": [
    {
     "name": "stdout",
     "output_type": "stream",
     "text": [
      "Student: Alice, Grade: 85\n",
      "Student: Bob, Grade: 45\n",
      "Invalid grade! Grade must be between 0 and 100.\n",
      "Updated Grade for Bob: 70\n",
      "Alice has passed!\n",
      "Bob has passed!\n"
     ]
    }
   ],
   "source": [
    "class Student:\n",
    "    def __init__(self, name, age, grade):\n",
    "        self.name = name          # Public attribute\n",
    "        self.age = age            # Public attribute\n",
    "        self.__grade = grade      # Private attribute\n",
    "\n",
    "    # Getter method for grade\n",
    "    def get_grade(self):\n",
    "        return self.__grade\n",
    "\n",
    "    # Setter method for grade\n",
    "    def set_grade(self, grade):\n",
    "        if 0 <= grade <= 100:\n",
    "            self.__grade = grade\n",
    "        else:\n",
    "            print(\"Invalid grade! Grade must be between 0 and 100.\")\n",
    "\n",
    "    # Method to check pass or fail based on grade\n",
    "    def check_pass_fail(self):\n",
    "        if self.__grade >= 50:\n",
    "            print(f\"{self.name} has passed!\")\n",
    "        else:\n",
    "            print(f\"{self.name} has failed!\")\n",
    "\n",
    "# Testing the encapsulation\n",
    "student1 = Student(\"Alice\", 20, 85)\n",
    "student2 = Student(\"Bob\", 21, 45)\n",
    "\n",
    "# Displaying initial grades using getter method\n",
    "print(f\"Student: {student1.name}, Grade: {student1.get_grade()}\")\n",
    "print(f\"Student: {student2.name}, Grade: {student2.get_grade()}\")\n",
    "\n",
    "# Trying to set an invalid grade\n",
    "student1.set_grade(105)  # Invalid grade\n",
    "student2.set_grade(70)   # Valid grade\n",
    "\n",
    "# Displaying updated grade using getter method\n",
    "print(f\"Updated Grade for {student2.name}: {student2.get_grade()}\")\n",
    "\n",
    "# Checking if students have passed or failed\n",
    "student1.check_pass_fail()\n",
    "student2.check_pass_fail()\n"
   ]
  },
  {
   "cell_type": "code",
   "execution_count": 3,
   "metadata": {},
   "outputs": [
    {
     "name": "stdout",
     "output_type": "stream",
     "text": [
      "Area: 50\n",
      "Perimeter: 30\n"
     ]
    }
   ],
   "source": [
    "class Rectangle:\n",
    "    def __init__(self, width, height):\n",
    "        self.width = width\n",
    "        self.height = height\n",
    "    \n",
    "    def area(self):\n",
    "        return self.width * self.height\n",
    "    \n",
    "    def perimeter(self):\n",
    "        return 2 * (self.width + self.height)\n",
    "\n",
    "rect = Rectangle(5, 10)\n",
    "print(\"Area:\", rect.area())        \n",
    "print(\"Perimeter:\", rect.perimeter())"
   ]
  },
  {
   "cell_type": "code",
   "execution_count": 4,
   "metadata": {},
   "outputs": [
    {
     "name": "stdout",
     "output_type": "stream",
     "text": [
      "Deposited 500. New balance is 1500.\n",
      "Withdrew 200. New balance is 1300.\n",
      "Current balance: 1300\n"
     ]
    }
   ],
   "source": [
    "class BankAccount:\n",
    "    def __init__(self, account_holder, balance=0):\n",
    "        self.account_holder = account_holder\n",
    "        self.balance = balance\n",
    "\n",
    "    def deposit(self, amount):\n",
    "        if amount > 0:\n",
    "            self.balance += amount\n",
    "            print(f\"Deposited {amount}. New balance is {self.balance}.\")\n",
    "        else:\n",
    "            print(\"Deposit amount must be positive.\")\n",
    "\n",
    "    def withdraw(self, amount):\n",
    "        if amount > self.balance:\n",
    "            print(\"Insufficient balance.\")\n",
    "        elif amount <= 0:\n",
    "            print(\"Withdrawal amount must be positive.\")\n",
    "        else:\n",
    "            self.balance -= amount\n",
    "            print(f\"Withdrew {amount}. New balance is {self.balance}.\")\n",
    "\n",
    "    def display_balance(self):\n",
    "        print(f\"Current balance: {self.balance}\")\n",
    "\n",
    "account = BankAccount(\"Alice\", 1000)\n",
    "account.deposit(500)\n",
    "account.withdraw(200)\n",
    "account.display_balance()"
   ]
  },
  {
   "cell_type": "code",
   "execution_count": 5,
   "metadata": {},
   "outputs": [
    {
     "name": "stdout",
     "output_type": "stream",
     "text": [
      "Car Info: 2020 Red Toyota Camry\n",
      "The Toyota Camry has started.\n",
      "The Toyota Camry has stopped.\n",
      "Car Info: 2018 Blue Honda Civic\n",
      "The Honda Civic has started.\n",
      "The Honda Civic is already running.\n"
     ]
    }
   ],
   "source": [
    "class Car:\n",
    "    def __init__(self, make, model, year, color):\n",
    "        self.make = make\n",
    "        self.model = model\n",
    "        self.year = year\n",
    "        self.color = color\n",
    "        self.is_running = False\n",
    "\n",
    "    def start(self):\n",
    "        if not self.is_running:\n",
    "            self.is_running = True\n",
    "            print(f\"The {self.make} {self.model} has started.\")\n",
    "        else:\n",
    "            print(f\"The {self.make} {self.model} is already running.\")\n",
    "\n",
    "    def stop(self):\n",
    "        if self.is_running:\n",
    "            self.is_running = False\n",
    "            print(f\"The {self.make} {self.model} has stopped.\")\n",
    "        else:\n",
    "            print(f\"The {self.make} {self.model} is already stopped.\")\n",
    "\n",
    "    def display_info(self):\n",
    "        print(f\"Car Info: {self.year} {self.color} {self.make} {self.model}\")\n",
    "\n",
    "car1 = Car(\"Toyota\", \"Camry\", 2020, \"Red\")\n",
    "car2 = Car(\"Honda\", \"Civic\", 2018, \"Blue\")\n",
    "\n",
    "car1.display_info()\n",
    "car1.start()\n",
    "car1.stop()\n",
    "\n",
    "car2.display_info()\n",
    "car2.start()\n",
    "car2.start()"
   ]
  },
  {
   "cell_type": "code",
   "execution_count": 6,
   "metadata": {},
   "outputs": [
    {
     "name": "stdout",
     "output_type": "stream",
     "text": [
      "Product Name: Smartphone\n",
      "Category: Electronics\n",
      "Original Price: $699.99\n",
      "Discount: 10%\n",
      "Final Price: $598.49\n",
      "\n",
      "Brand: TechBrand\n",
      "Warranty Period: 24 months\n",
      "\n",
      "Product Name: Jeans\n",
      "Category: Clothing\n",
      "Original Price: $49.99\n",
      "Discount: 20%\n",
      "Final Price: $39.99\n",
      "\n",
      "Size: L\n",
      "Material: Denim\n",
      "\n",
      "Product Name: Organic Apples\n",
      "Category: Groceries\n",
      "Original Price: $3.99\n",
      "Discount: 5%\n",
      "Final Price: $3.41\n",
      "\n",
      "Expiration Date: 2024-12-31\n",
      "Organic: Yes\n",
      "\n",
      "Product Name: Canned Beans\n",
      "Category: Groceries\n",
      "Original Price: $1.99\n",
      "Discount: 0%\n",
      "Final Price: $1.99\n",
      "\n",
      "Expiration Date: 2025-01-15\n",
      "Organic: No\n",
      "\n"
     ]
    }
   ],
   "source": [
    "class Product:\n",
    "    def __init__(self, name, price, category, discount=0):\n",
    "        self.name = name\n",
    "        self.price = price\n",
    "        self.category = category\n",
    "        self.discount = discount\n",
    "\n",
    "    def get_discounted_price(self):\n",
    "        # Default behavior: apply discount if any\n",
    "        return self.price * (1 - self.discount / 100)\n",
    "\n",
    "    def show_product_info(self):\n",
    "        print(f\"Product Name: {self.name}\")\n",
    "        print(f\"Category: {self.category}\")\n",
    "        print(f\"Original Price: ${self.price:.2f}\")\n",
    "        print(f\"Discount: {self.discount}%\")\n",
    "        print(f\"Final Price: ${self.get_discounted_price():.2f}\\n\")\n",
    "\n",
    "class Electronics(Product):\n",
    "    def __init__(self, name, price, brand, warranty_period, discount=0):\n",
    "        super().__init__(name, price, \"Electronics\", discount)\n",
    "        self.brand = brand\n",
    "        self.warranty_period = warranty_period\n",
    "\n",
    "    def get_discounted_price(self):\n",
    "        base_price = super().get_discounted_price()\n",
    "        if self.discount < 15:\n",
    "            return base_price * 0.95\n",
    "        return base_price\n",
    "\n",
    "    def show_product_info(self):\n",
    "        super().show_product_info()\n",
    "        print(f\"Brand: {self.brand}\")\n",
    "        print(f\"Warranty Period: {self.warranty_period} months\\n\")\n",
    "\n",
    "class Clothing(Product):\n",
    "    def __init__(self, name, price, size, material, discount=0):\n",
    "        super().__init__(name, price, \"Clothing\", discount)\n",
    "        self.size = size\n",
    "        self.material = material\n",
    "\n",
    "    def get_discounted_price(self):\n",
    "        return super().get_discounted_price()\n",
    "\n",
    "    def show_product_info(self):\n",
    "        super().show_product_info()\n",
    "        print(f\"Size: {self.size}\")\n",
    "        print(f\"Material: {self.material}\\n\")\n",
    "\n",
    "\n",
    "class Groceries(Product):\n",
    "    def __init__(self, name, price, expiration_date, organic=False, discount=0):\n",
    "        super().__init__(name, price, \"Groceries\", discount)\n",
    "        self.expiration_date = expiration_date\n",
    "        self.organic = organic\n",
    "\n",
    "    def get_discounted_price(self):\n",
    "        if self.organic:\n",
    "            return super().get_discounted_price() * 0.9\n",
    "        return super().get_discounted_price()\n",
    "\n",
    "    def show_product_info(self):\n",
    "        organic_status = \"Yes\" if self.organic else \"No\"\n",
    "        super().show_product_info()\n",
    "        print(f\"Expiration Date: {self.expiration_date}\")\n",
    "        print(f\"Organic: {organic_status}\\n\")\n",
    "\n",
    "\n",
    "products = [\n",
    "    Electronics(\"Smartphone\", 699.99, \"TechBrand\", 24, discount=10),\n",
    "    Clothing(\"Jeans\", 49.99, \"L\", \"Denim\", discount=20),\n",
    "    Groceries(\"Organic Apples\", 3.99, \"2024-12-31\", organic=True, discount=5),\n",
    "    Groceries(\"Canned Beans\", 1.99, \"2025-01-15\", organic=False, discount=0),\n",
    "]\n",
    "\n",
    "for product in products:\n",
    "    product.show_product_info()"
   ]
  },
  {
   "cell_type": "code",
   "execution_count": 7,
   "metadata": {},
   "outputs": [
    {
     "name": "stdout",
     "output_type": "stream",
     "text": [
      "Current balance: $1000\n",
      "Deposited $500. New balance is $1500.\n",
      "Withdrew $300. New balance is $1200.\n",
      "Invalid withdrawal amount or insufficient balance.\n",
      "Invalid withdrawal amount or insufficient balance.\n",
      "Final balance: $1200\n",
      "Error: 'BankAccount' object has no attribute '__balance'\n"
     ]
    }
   ],
   "source": [
    "class BankAccount:\n",
    "    def __init__(self, owner, initial_balance=0):\n",
    "        self.owner = owner\n",
    "        self.__balance = initial_balance\n",
    "\n",
    "    def get_balance(self):\n",
    "        return self.__balance\n",
    "\n",
    "    def deposit(self, amount):\n",
    "        if amount > 0:\n",
    "            self.__balance += amount\n",
    "            print(f\"Deposited ${amount}. New balance is ${self.__balance}.\")\n",
    "        else:\n",
    "            print(\"Deposit amount must be positive.\")\n",
    "\n",
    "    def withdraw(self, amount):\n",
    "        if amount > 0 and amount <= self.__balance:\n",
    "            self.__balance -= amount\n",
    "            print(f\"Withdrew ${amount}. New balance is ${self.__balance}.\")\n",
    "        else:\n",
    "            print(\"Invalid withdrawal amount or insufficient balance.\")\n",
    "\n",
    "account = BankAccount(\"Alice\", 1000)\n",
    "\n",
    "print(f\"Current balance: ${account.get_balance()}\")\n",
    "\n",
    "account.deposit(500)\n",
    "\n",
    "account.withdraw(300)\n",
    "\n",
    "account.withdraw(2000)\n",
    "\n",
    "account.withdraw(-50)\n",
    "\n",
    "print(f\"Final balance: ${account.get_balance()}\")\n",
    "\n",
    "try:\n",
    "    print(account.__balance)\n",
    "except AttributeError as e:\n",
    "    print(\"Error:\", e)"
   ]
  },
  {
   "cell_type": "code",
   "execution_count": null,
   "metadata": {},
   "outputs": [],
   "source": []
  }
 ],
 "metadata": {
  "colab": {
   "provenance": []
  },
  "kernelspec": {
   "display_name": "Python (CIFAR10)",
   "language": "python",
   "name": "cifar10"
  },
  "language_info": {
   "codemirror_mode": {
    "name": "ipython",
    "version": 3
   },
   "file_extension": ".py",
   "mimetype": "text/x-python",
   "name": "python",
   "nbconvert_exporter": "python",
   "pygments_lexer": "ipython3",
   "version": "3.12.10"
  }
 },
 "nbformat": 4,
 "nbformat_minor": 4
}
