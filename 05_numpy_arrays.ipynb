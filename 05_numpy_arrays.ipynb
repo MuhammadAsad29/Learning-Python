{
 "cells": [
  {
   "cell_type": "code",
   "execution_count": 3,
   "metadata": {},
   "outputs": [
    {
     "name": "stdout",
     "output_type": "stream",
     "text": [
      "[0 1 2 3 4 5 6 7 8 9]\n"
     ]
    }
   ],
   "source": [
    "import numpy as np\n",
    "\n",
    "# Creating a 1D array with numbers from 0 to 9\n",
    "arr1 = np.arange(10)\n",
    "print(arr1)\n"
   ]
  },
  {
   "cell_type": "code",
   "execution_count": 4,
   "metadata": {},
   "outputs": [
    {
     "name": "stdout",
     "output_type": "stream",
     "text": [
      "[[1. 1. 1.]\n",
      " [1. 1. 1.]\n",
      " [1. 1. 1.]]\n"
     ]
    }
   ],
   "source": [
    "# Creating a 2D array (3x3) filled with ones\n",
    "arr2 = np.ones((3, 3))\n",
    "print(arr2)\n"
   ]
  },
  {
   "cell_type": "code",
   "execution_count": 5,
   "metadata": {},
   "outputs": [
    {
     "name": "stdout",
     "output_type": "stream",
     "text": [
      "[[1. 0. 0.]\n",
      " [0. 1. 0.]\n",
      " [0. 0. 1.]]\n"
     ]
    }
   ],
   "source": [
    "# Creating a 3x3 identity matrix\n",
    "arr3 = np.eye(3)\n",
    "print(arr3)\n"
   ]
  },
  {
   "cell_type": "code",
   "execution_count": 6,
   "metadata": {},
   "outputs": [
    {
     "name": "stdout",
     "output_type": "stream",
     "text": [
      "[  0.           5.26315789  10.52631579  15.78947368  21.05263158\n",
      "  26.31578947  31.57894737  36.84210526  42.10526316  47.36842105\n",
      "  52.63157895  57.89473684  63.15789474  68.42105263  73.68421053\n",
      "  78.94736842  84.21052632  89.47368421  94.73684211 100.        ]\n"
     ]
    }
   ],
   "source": [
    "# Creating an array with 20 evenly spaced numbers between 0 and 100\n",
    "arr4 = np.linspace(0, 100, 20)\n",
    "print(arr4)\n"
   ]
  },
  {
   "cell_type": "code",
   "execution_count": 7,
   "metadata": {},
   "outputs": [
    {
     "name": "stdout",
     "output_type": "stream",
     "text": [
      "[0 1 2]\n"
     ]
    }
   ],
   "source": [
    "# Slice the first three elements from arr1\n",
    "sliced_array = arr1[:3]\n",
    "print(sliced_array)\n"
   ]
  },
  {
   "cell_type": "code",
   "execution_count": 8,
   "metadata": {},
   "outputs": [
    {
     "name": "stdout",
     "output_type": "stream",
     "text": [
      "[[0 1 2 3 4]\n",
      " [5 6 7 8 9]]\n"
     ]
    }
   ],
   "source": [
    "# Reshaping the 1D array into a 2D array of shape (2, 5)\n",
    "reshaped_array = arr1.reshape(2, 5)\n",
    "print(reshaped_array)\n"
   ]
  },
  {
   "cell_type": "code",
   "execution_count": 9,
   "metadata": {},
   "outputs": [
    {
     "name": "stdout",
     "output_type": "stream",
     "text": [
      "Sum: 45\n",
      "Mean: 4.5\n",
      "Standard Deviation: 2.8722813232690143\n"
     ]
    }
   ],
   "source": [
    "# Finding sum, mean, and standard deviation of arr1\n",
    "sum_value = np.sum(arr1)\n",
    "mean_value = np.mean(arr1)\n",
    "std_dev_value = np.std(arr1)\n",
    "\n",
    "print(\"Sum:\", sum_value)\n",
    "print(\"Mean:\", mean_value)\n",
    "print(\"Standard Deviation:\", std_dev_value)\n"
   ]
  },
  {
   "cell_type": "code",
   "execution_count": 10,
   "metadata": {},
   "outputs": [
    {
     "name": "stdout",
     "output_type": "stream",
     "text": [
      "Stock Data:\n",
      " [[150 152 155 158 160 162 165]\n",
      " [210 215 220 225 230 235 240]\n",
      " [130 132 135 137 140 145 148]\n",
      " [300 305 310 315 320 325 330]\n",
      " [ 50  52  54  55  56  58  60]]\n",
      "\n",
      "Mean stock price for each company: [157.42857143 225.         138.14285714 315.          55.        ]\n",
      "\n",
      "Company with the highest average stock price: Company D\n",
      "\n",
      "Highest stock price for each company: [165 240 148 330  60]\n",
      "Lowest stock price for each company: [150 210 130 300  50]\n",
      "\n",
      "Highest stock price across all companies: 330\n",
      "Day with the highest stock price: 7\n"
     ]
    }
   ],
   "source": [
    "import numpy as np\n",
    "\n",
    "# Creating the 2D array with stock price data for 5 companies over 7 days\n",
    "stock_data = np.array([\n",
    "    [150, 152, 155, 158, 160, 162, 165],  # Company A\n",
    "    [210, 215, 220, 225, 230, 235, 240],  # Company B\n",
    "    [130, 132, 135, 137, 140, 145, 148],  # Company C\n",
    "    [300, 305, 310, 315, 320, 325, 330],  # Company D\n",
    "    [50, 52, 54, 55, 56, 58, 60]          # Company E\n",
    "])\n",
    "\n",
    "# Step 1: Reshape the data if necessary\n",
    "# The data is already in a 2D format of shape (5, 7), so no reshaping is needed in this case.\n",
    "print(\"Stock Data:\\n\", stock_data)\n",
    "\n",
    "# Step 2: Calculate the mean stock price for each company (mean of each row)\n",
    "mean_stock_prices = np.mean(stock_data, axis=1)\n",
    "print(\"\\nMean stock price for each company:\", mean_stock_prices)\n",
    "\n",
    "# Step 3: Find the company with the highest average stock price\n",
    "company_with_highest_avg_price = np.argmax(mean_stock_prices)\n",
    "companies = [\"Company A\", \"Company B\", \"Company C\", \"Company D\", \"Company E\"]\n",
    "print(\"\\nCompany with the highest average stock price:\", companies[company_with_highest_avg_price])\n",
    "\n",
    "# Step 4: Calculate the highest and lowest stock prices for each company across all days\n",
    "highest_prices = np.max(stock_data, axis=1)\n",
    "lowest_prices = np.min(stock_data, axis=1)\n",
    "print(\"\\nHighest stock price for each company:\", highest_prices)\n",
    "print(\"Lowest stock price for each company:\", lowest_prices)\n",
    "\n",
    "# Step 5: Identify the day with the highest stock price across all companies\n",
    "highest_stock_price = np.max(stock_data)\n",
    "day_with_highest_price = np.unravel_index(np.argmax(stock_data), stock_data.shape)  # Returns (row, col) index\n",
    "print(\"\\nHighest stock price across all companies:\", highest_stock_price)\n",
    "print(\"Day with the highest stock price:\", day_with_highest_price[1] + 1)  # Day is index+1 (1-based)\n"
   ]
  },
  {
   "cell_type": "code",
   "execution_count": 11,
   "metadata": {},
   "outputs": [
    {
     "name": "stdout",
     "output_type": "stream",
     "text": [
      "Athlete's Scores across 10 Competitions and 5 Events:\n",
      " [[ 85  90  80  75  88]\n",
      " [ 78  85  82  80  91]\n",
      " [ 92  95  88  84  90]\n",
      " [ 80  82  85  80  86]\n",
      " [ 90  93  87  89  92]\n",
      " [ 95 100  94  91  98]\n",
      " [ 87  88  89  85  91]\n",
      " [ 83  87  82  79  85]\n",
      " [ 91  92  90  88  93]\n",
      " [ 88  90  84  83  89]]\n"
     ]
    }
   ],
   "source": [
    "import numpy as np\n",
    "# Create a 2D NumPy array with 10 rows (competitions) and 5 columns (events)\n",
    "# Each row represents a competition, and each column represents an event's score\n",
    "scores = np.array([\n",
    "    [85, 90, 80, 75, 88],  # Competition 1\n",
    "    [78, 85, 82, 80, 91],  # Competition 2\n",
    "    [92, 95, 88, 84, 90],  # Competition 3\n",
    "    [80, 82, 85, 80, 86],  # Competition 4\n",
    "    [90, 93, 87, 89, 92],  # Competition 5\n",
    "    [95, 100, 94, 91, 98], # Competition 6\n",
    "    [87, 88, 89, 85, 91],  # Competition 7\n",
    "    [83, 87, 82, 79, 85],  # Competition 8\n",
    "    [91, 92, 90, 88, 93],  # Competition 9\n",
    "    [88, 90, 84, 83, 89]   # Competition 10\n",
    "])\n",
    "\n",
    "print(\"Athlete's Scores across 10 Competitions and 5 Events:\\n\", scores)\n"
   ]
  },
  {
   "cell_type": "code",
   "execution_count": 12,
   "metadata": {},
   "outputs": [
    {
     "name": "stdout",
     "output_type": "stream",
     "text": [
      "\n",
      "Average score for each event: [86.9 90.2 86.1 83.4 90.3]\n",
      "\n",
      "Event with the highest average score: Basketball\n",
      "\n",
      "Total score for each competition: [418 416 449 413 451 478 440 416 454 434]\n",
      "\n",
      "Competition with the highest total score: Competition 6\n"
     ]
    }
   ],
   "source": [
    "# Step 2. Calculate the average score for each event (mean across each column)\n",
    "average_scores_per_event = np.mean(scores, axis=0)\n",
    "print(\"\\nAverage score for each event:\", average_scores_per_event)\n",
    "\n",
    "# Step 2. Find the event with the highest average score\n",
    "event_with_highest_avg = np.argmax(average_scores_per_event)  # Index of the event with highest average\n",
    "events = [\"Running\", \"Swimming\", \"Cycling\", \"Weightlifting\", \"Basketball\"]\n",
    "print(\"\\nEvent with the highest average score:\", events[event_with_highest_avg])\n",
    "\n",
    "# Step 2. Calculate the total score across all events for each competition (sum across each row)\n",
    "total_scores_per_competition = np.sum(scores, axis=1)\n",
    "print(\"\\nTotal score for each competition:\", total_scores_per_competition)\n",
    "\n",
    "# Step 2. Find the competition with the highest total score\n",
    "competition_with_highest_total_score = np.argmax(total_scores_per_competition)  # Index of the competition with highest total score\n",
    "competitions = [f\"Competition {i+1}\" for i in range(10)]\n",
    "print(\"\\nCompetition with the highest total score:\", competitions[competition_with_highest_total_score])\n"
   ]
  },
  {
   "cell_type": "code",
   "execution_count": 13,
   "metadata": {},
   "outputs": [
    {
     "name": "stdout",
     "output_type": "stream",
     "text": [
      "Mean temperature per city: [87.14285714 79.57142857 92.57142857 70.42857143 87.57142857]\n",
      "City 3 has the highest average temperature of 92.57°.\n",
      "City 1: Highest = 90, Lowest = 85\n",
      "City 2: Highest = 82, Lowest = 77\n",
      "City 3: Highest = 95, Lowest = 91\n",
      "City 4: Highest = 73, Lowest = 68\n",
      "City 5: Highest = 90, Lowest = 85\n",
      "The highest temperature of 95° occurred in City 3 on Day 7.\n"
     ]
    }
   ],
   "source": [
    "import numpy as np\n",
    "\n",
    "temperatures = np.array([\n",
    "    [85, 87, 90, 88, 86, 85, 89],\n",
    "    [78, 80, 79, 77, 81, 80, 82],\n",
    "    [92, 91, 93, 94, 92, 91, 95],\n",
    "    [70, 72, 68, 71, 69, 70, 73],\n",
    "    [88, 85, 87, 86, 89, 90, 88],\n",
    "])\n",
    "\n",
    "mean_temps = temperatures.mean(axis=1)\n",
    "print(\"Mean temperature per city:\", mean_temps)\n",
    "\n",
    "max_mean_index = np.argmax(mean_temps)\n",
    "print(f\"City {max_mean_index + 1} has the highest average temperature of {mean_temps[max_mean_index]:.2f}°.\")\n",
    "\n",
    "max_temps = temperatures.max(axis=1)\n",
    "min_temps = temperatures.min(axis=1)\n",
    "for i in range(temperatures.shape[0]):\n",
    "    print(f\"City {i + 1}: Highest = {max_temps[i]}, Lowest = {min_temps[i]}\")\n",
    "\n",
    "max_temp_value = temperatures.max()\n",
    "max_temp_pos = np.unravel_index(np.argmax(temperatures), temperatures.shape)\n",
    "day_with_max_temp = max_temp_pos[1] + 1\n",
    "city_with_max_temp = max_temp_pos[0] + 1\n",
    "print(f\"The highest temperature of {max_temp_value}° occurred in City {city_with_max_temp} on Day {day_with_max_temp}.\")"
   ]
  },
  {
   "cell_type": "code",
   "execution_count": 14,
   "metadata": {},
   "outputs": [
    {
     "name": "stdout",
     "output_type": "stream",
     "text": [
      "Average score in Running: 14.50\n",
      "Average score in Swimming: 9.50\n",
      "Average score in Cycling: 14.90\n",
      "Average score in Weightlifting: 11.90\n",
      "Average score in Basketball: 21.90\n",
      "\n",
      "Event with the highest average score: Basketball (21.90)\n",
      "Total score in Competition 1: 65\n",
      "Total score in Competition 2: 70\n",
      "Total score in Competition 3: 67\n",
      "Total score in Competition 4: 68\n",
      "Total score in Competition 5: 79\n",
      "Total score in Competition 6: 66\n",
      "Total score in Competition 7: 72\n",
      "Total score in Competition 8: 77\n",
      "Total score in Competition 9: 86\n",
      "Total score in Competition 10: 77\n",
      "\n",
      "Competition with the highest total score: Competition 9 (86)\n"
     ]
    }
   ],
   "source": [
    "import numpy as np\n",
    "\n",
    "scores = np.array([\n",
    "    [12, 8, 15, 10, 20],\n",
    "    [14, 9, 14, 11, 22],\n",
    "    [13, 7, 16, 12, 19],\n",
    "    [15, 10, 13, 9, 21],\n",
    "    [16, 11, 15, 14, 23],\n",
    "    [14, 8, 14, 10, 20], \n",
    "    [13, 9, 15, 13, 22], \n",
    "    [15, 10, 16, 12, 24],\n",
    "    [17, 12, 17, 15, 25],\n",
    "    [16, 11, 14, 13, 23],\n",
    "])\n",
    "event_names = ['Running', 'Swimming', 'Cycling', 'Weightlifting', 'Basketball']\n",
    "\n",
    "average_scores_per_event = scores.mean(axis=0)\n",
    "for i, event in enumerate(event_names):\n",
    "    print(f\"Average score in {event}: {average_scores_per_event[i]:.2f}\")\n",
    "\n",
    "\n",
    "max_avg_index = np.argmax(average_scores_per_event)\n",
    "print(f\"\\nEvent with the highest average score: {event_names[max_avg_index]} ({average_scores_per_event[max_avg_index]:.2f})\")\n",
    "\n",
    "total_scores_per_competition = scores.sum(axis=1)\n",
    "for i, total in enumerate(total_scores_per_competition):\n",
    "    print(f\"Total score in Competition {i+1}: {total}\")\n",
    "\n",
    "max_total_index = np.argmax(total_scores_per_competition)\n",
    "print(f\"\\nCompetition with the highest total score: Competition {max_total_index + 1} ({total_scores_per_competition[max_total_index]})\")"
   ]
  },
  {
   "cell_type": "code",
   "execution_count": 92,
   "metadata": {},
   "outputs": [
    {
     "name": "stdout",
     "output_type": "stream",
     "text": [
      "[10 11 12 13 14 15 16 17 18 19 20] \n",
      "\n"
     ]
    }
   ],
   "source": [
    "arr2 = np.arange(10,21)\n",
    "print(arr2,\"\\n\")"
   ]
  },
  {
   "cell_type": "code",
   "execution_count": 93,
   "metadata": {},
   "outputs": [
    {
     "name": "stdout",
     "output_type": "stream",
     "text": [
      "[111 112 113] \n",
      "\n"
     ]
    }
   ],
   "source": [
    "arr3 = np.arange(111, 114)\n",
    "print(arr3,\"\\n\")"
   ]
  },
  {
   "cell_type": "code",
   "execution_count": 94,
   "metadata": {},
   "outputs": [
    {
     "name": "stdout",
     "output_type": "stream",
     "text": [
      "(array([0, 1, 2, 3, 4, 5, 6, 7, 8, 9]), array([10, 11, 12, 13, 14, 15, 16, 17, 18, 19, 20]), array([111, 112, 113])) \n",
      "\n"
     ]
    }
   ],
   "source": [
    "combined_arr = (arr1, arr2, arr3)\n",
    "print(combined_arr,\"\\n\")"
   ]
  },
  {
   "cell_type": "code",
   "execution_count": 95,
   "metadata": {},
   "outputs": [
    {
     "name": "stdout",
     "output_type": "stream",
     "text": [
      "[0 1 2 3 4 5 6 7 8] \n",
      "\n"
     ]
    }
   ],
   "source": [
    "sliced_array1 = arr1[:-1]\n",
    "print(sliced_array1,\"\\n\")"
   ]
  },
  {
   "cell_type": "code",
   "execution_count": 96,
   "metadata": {},
   "outputs": [
    {
     "name": "stdout",
     "output_type": "stream",
     "text": [
      "[10 11 12 13 14 15 16 17 18] \n",
      "\n"
     ]
    }
   ],
   "source": [
    "sliced_array2 = arr2[: -2]\n",
    "print(sliced_array2,\"\\n\")"
   ]
  },
  {
   "cell_type": "code",
   "execution_count": 97,
   "metadata": {},
   "outputs": [
    {
     "name": "stdout",
     "output_type": "stream",
     "text": [
      "[3 4 5 6 7 8 9] \n",
      "\n"
     ]
    }
   ],
   "source": [
    "sliced_array3 = arr1[3 :]\n",
    "print(sliced_array3,\"\\n\")"
   ]
  },
  {
   "cell_type": "code",
   "execution_count": 98,
   "metadata": {},
   "outputs": [
    {
     "name": "stdout",
     "output_type": "stream",
     "text": [
      "[[0 1 2 3 4]\n",
      " [5 6 7 8 9]]\n"
     ]
    }
   ],
   "source": [
    "reshaped_array = arr1.reshape(2, 5)\n",
    "print(reshaped_array)"
   ]
  },
  {
   "cell_type": "code",
   "execution_count": 99,
   "metadata": {},
   "outputs": [
    {
     "name": "stdout",
     "output_type": "stream",
     "text": [
      "(3,)\n"
     ]
    }
   ],
   "source": [
    "arr3.shape\n",
    "print(arr3.shape)"
   ]
  },
  {
   "cell_type": "code",
   "execution_count": 100,
   "metadata": {},
   "outputs": [
    {
     "name": "stdout",
     "output_type": "stream",
     "text": [
      "1\n"
     ]
    }
   ],
   "source": [
    "arr2.ndim\n",
    "print(arr2.ndim)"
   ]
  },
  {
   "cell_type": "code",
   "execution_count": 101,
   "metadata": {},
   "outputs": [
    {
     "name": "stdout",
     "output_type": "stream",
     "text": [
      "10\n"
     ]
    }
   ],
   "source": [
    "arr1.size\n",
    "print(arr1.size)"
   ]
  },
  {
   "cell_type": "code",
   "execution_count": 102,
   "metadata": {},
   "outputs": [
    {
     "name": "stdout",
     "output_type": "stream",
     "text": [
      "<ufunc 'sqrt'>\n"
     ]
    }
   ],
   "source": [
    "np.sqrt(arr3)\n",
    "print(np.sqrt)"
   ]
  },
  {
   "cell_type": "code",
   "execution_count": 103,
   "metadata": {},
   "outputs": [
    {
     "name": "stdout",
     "output_type": "stream",
     "text": [
      "[0 1 2 3]\n"
     ]
    }
   ],
   "source": [
    "arr4 = np.arange(0,4,1)\n",
    "print(arr4)"
   ]
  },
  {
   "cell_type": "code",
   "execution_count": 104,
   "metadata": {},
   "outputs": [
    {
     "name": "stdout",
     "output_type": "stream",
     "text": [
      "[[0. 0.]\n",
      " [0. 0.]]\n"
     ]
    }
   ],
   "source": [
    "arr5 = np.zeros((2,2))\n",
    "print(arr5)"
   ]
  },
  {
   "cell_type": "code",
   "execution_count": 105,
   "metadata": {},
   "outputs": [
    {
     "name": "stdout",
     "output_type": "stream",
     "text": [
      "[[1. 1. 1. 1.]\n",
      " [1. 1. 1. 1.]]\n"
     ]
    }
   ],
   "source": [
    "ones = np.ones((2, 4))\n",
    "print(ones)"
   ]
  },
  {
   "cell_type": "code",
   "execution_count": 106,
   "metadata": {},
   "outputs": [
    {
     "name": "stdout",
     "output_type": "stream",
     "text": [
      "(array([0, 1, 2, 3]), array([[0., 0.],\n",
      "       [0., 0.]]))\n"
     ]
    }
   ],
   "source": [
    "combine_array = (arr4, arr5)\n",
    "print(combine_array)"
   ]
  },
  {
   "cell_type": "code",
   "execution_count": 107,
   "metadata": {},
   "outputs": [
    {
     "name": "stdout",
     "output_type": "stream",
     "text": [
      "0\n",
      "1\n",
      "2\n",
      "3\n",
      "4\n",
      "5\n",
      "6\n",
      "7\n",
      "8\n",
      "9\n",
      "10\n",
      "11\n",
      "12\n",
      "13\n",
      "14\n",
      "15\n",
      "16\n",
      "17\n",
      "18\n",
      "19\n",
      "20\n"
     ]
    }
   ],
   "source": [
    "arr = np.array([])\n",
    "for arr in range(21):\n",
    "    print(arr)"
   ]
  },
  {
   "cell_type": "code",
   "execution_count": null,
   "metadata": {},
   "outputs": [],
   "source": [
    "# Graded Lab Task 1\n",
    "\n",
    "arr_2D = []"
   ]
  },
  {
   "cell_type": "code",
   "execution_count": 1,
   "metadata": {},
   "outputs": [
    {
     "name": "stdout",
     "output_type": "stream",
     "text": [
      "Stock Data:\n",
      " [[150 152 155 158 160 162 165]\n",
      " [210 215 220 225 230 235 240]\n",
      " [130 132 135 137 140 145 148]\n",
      " [300 305 310 315 320 325 330]\n",
      " [ 50  52  54  55  56  58  60]]\n",
      "\n",
      "Mean stock price for each company: [157.42857143 225.         138.14285714 315.          55.        ]\n",
      "\n",
      "Company with the highest average stock price: Company D\n",
      "\n",
      "Highest stock price for each company: [165 240 148 330  60]\n",
      "Lowest stock price for each company: [150 210 130 300  50]\n",
      "\n",
      "Highest stock price across all companies: 330\n",
      "Day with the highest stock price: 7\n"
     ]
    }
   ],
   "source": [
    "import numpy as np\n",
    "\n",
    "# Creating the 2D array with stock price data for 5 companies over 7 days\n",
    "stock_data = np.array([\n",
    "    [150, 152, 155, 158, 160, 162, 165],  # Company A\n",
    "    [210, 215, 220, 225, 230, 235, 240],  # Company B\n",
    "    [130, 132, 135, 137, 140, 145, 148],  # Company C\n",
    "    [300, 305, 310, 315, 320, 325, 330],  # Company D\n",
    "    [50, 52, 54, 55, 56, 58, 60]          # Company E\n",
    "])\n",
    "\n",
    "# Step 1: Reshape the data if necessary\n",
    "# The data is already in a 2D format of shape (5, 7), so no reshaping is needed in this case.\n",
    "print(\"Stock Data:\\n\", stock_data)\n",
    "\n",
    "# Step 2: Calculate the mean stock price for each company (mean of each row)\n",
    "mean_stock_prices = np.mean(stock_data, axis=1)\n",
    "print(\"\\nMean stock price for each company:\", mean_stock_prices)\n",
    "\n",
    "# Step 3: Find the company with the highest average stock price\n",
    "company_with_highest_avg_price = np.argmax(mean_stock_prices)\n",
    "companies = [\"Company A\", \"Company B\", \"Company C\", \"Company D\", \"Company E\"]\n",
    "print(\"\\nCompany with the highest average stock price:\", companies[company_with_highest_avg_price])\n",
    "\n",
    "# Step 4: Calculate the highest and lowest stock prices for each company across all days\n",
    "highest_prices = np.max(stock_data, axis=1)\n",
    "lowest_prices = np.min(stock_data, axis=1)\n",
    "print(\"\\nHighest stock price for each company:\", highest_prices)\n",
    "print(\"Lowest stock price for each company:\", lowest_prices)\n",
    "\n",
    "# Step 5: Identify the day with the highest stock price across all companies\n",
    "highest_stock_price = np.max(stock_data)\n",
    "day_with_highest_price = np.unravel_index(np.argmax(stock_data), stock_data.shape)  # Returns (row, col) index\n",
    "print(\"\\nHighest stock price across all companies:\", highest_stock_price)\n",
    "print(\"Day with the highest stock price:\", day_with_highest_price[1] + 1)  # Day is index+1 (1-based)\n"
   ]
  },
  {
   "cell_type": "code",
   "execution_count": 5,
   "metadata": {},
   "outputs": [
    {
     "name": "stdout",
     "output_type": "stream",
     "text": [
      "Stock Data:\n",
      " [[156 151 152 123 143 142 132]\n",
      " [225 246 241 241 243 243 231]\n",
      " [125 125 154 189 196 125 102]\n",
      " [364 325 325 354 335 325 362]\n",
      " [525 522 541 525 545 549 215]]\n",
      "\n",
      "Mean stock price for each company: [142.71428571 238.57142857 145.14285714 341.42857143 488.85714286]\n",
      "\n",
      "Company with the highest average stock price: Company E\n",
      "\n",
      "Highest stock price for each company: [156 246 196 364 549]\n",
      "Lowest stock price for each company: [123 225 102 325 215]\n",
      "\n",
      "Highest stock price across all companies: 549\n",
      "Day with the highest stock price: 6\n"
     ]
    }
   ],
   "source": [
    "import numpy as np\n",
    "\n",
    "# Creating the 2D array with stock price data for 5 companies over 7 days\n",
    "stock_data = np.array([\n",
    "    [156, 151, 152, 123, 143, 142, 132],  # Company A\n",
    "    [225, 246, 241, 241, 243, 243, 231],  # Company B\n",
    "    [125, 125, 154, 189, 196, 125, 102],  # Company C\n",
    "    [364, 325, 325, 354, 335, 325, 362],  # Company D\n",
    "    [525, 522, 541, 525, 545, 549, 215]          # Company E\n",
    "])\n",
    "\n",
    "# Step 1: Reshape the data if necessary\n",
    "# The data is already in a 2D format of shape (5, 7), so no reshaping is needed in this case.\n",
    "print(\"Stock Data:\\n\", stock_data)\n",
    "\n",
    "# Step 2: Calculate the mean stock price for each company (mean of each row)\n",
    "mean_stock_prices = np.mean(stock_data, axis=1)\n",
    "print(\"\\nMean stock price for each company:\", mean_stock_prices)\n",
    "\n",
    "# Step 3: Find the company with the highest average stock price\n",
    "company_with_highest_avg_price = np.argmax(mean_stock_prices)\n",
    "companies = [\"Company A\", \"Company B\", \"Company C\", \"Company D\", \"Company E\"]\n",
    "print(\"\\nCompany with the highest average stock price:\", companies[company_with_highest_avg_price])\n",
    "\n",
    "# Step 4: Calculate the highest and lowest stock prices for each company across all days\n",
    "highest_prices = np.max(stock_data, axis=1)\n",
    "lowest_prices = np.min(stock_data, axis=1)\n",
    "print(\"\\nHighest stock price for each company:\", highest_prices)\n",
    "print(\"Lowest stock price for each company:\", lowest_prices)\n",
    "\n",
    "# Step 5: Identify the day with the highest stock price across all companies\n",
    "highest_stock_price = np.max(stock_data)\n",
    "day_with_highest_price = np.unravel_index(np.argmax(stock_data), stock_data.shape)  # Returns (row, col) index\n",
    "print(\"\\nHighest stock price across all companies:\", highest_stock_price)\n",
    "print(\"Day with the highest stock price:\", day_with_highest_price[1] + 1)  # Day is index+1 (1-based)\n"
   ]
  },
  {
   "cell_type": "code",
   "execution_count": 6,
   "metadata": {},
   "outputs": [
    {
     "name": "stdout",
     "output_type": "stream",
     "text": [
      "Athlete's Scores across 10 Competitions and 5 Events:\n",
      " [[ 85  90  80  75  88]\n",
      " [ 78  85  82  80  91]\n",
      " [ 92  95  88  84  90]\n",
      " [ 80  82  85  80  86]\n",
      " [ 90  93  87  89  92]\n",
      " [ 95 100  94  91  98]\n",
      " [ 87  88  89  85  91]\n",
      " [ 83  87  82  79  85]\n",
      " [ 91  92  90  88  93]\n",
      " [ 88  90  84  83  89]]\n"
     ]
    }
   ],
   "source": [
    "import numpy as np\n",
    "# Create a 2D NumPy array with 10 rows (competitions) and 5 columns (events)\n",
    "# Each row represents a competition, and each column represents an event's score\n",
    "scores = np.array([\n",
    "    [85, 90, 80, 75, 88],  # Competition 1\n",
    "    [78, 85, 82, 80, 91],  # Competition 2\n",
    "    [92, 95, 88, 84, 90],  # Competition 3\n",
    "    [80, 82, 85, 80, 86],  # Competition 4\n",
    "    [90, 93, 87, 89, 92],  # Competition 5\n",
    "    [95, 100, 94, 91, 98], # Competition 6\n",
    "    [87, 88, 89, 85, 91],  # Competition 7\n",
    "    [83, 87, 82, 79, 85],  # Competition 8\n",
    "    [91, 92, 90, 88, 93],  # Competition 9\n",
    "    [88, 90, 84, 83, 89]   # Competition 10\n",
    "])\n",
    "\n",
    "print(\"Athlete's Scores across 10 Competitions and 5 Events:\\n\", scores)"
   ]
  },
  {
   "cell_type": "code",
   "execution_count": 7,
   "metadata": {},
   "outputs": [
    {
     "name": "stdout",
     "output_type": "stream",
     "text": [
      "\n",
      "Average score for each event: [86.9 90.2 86.1 83.4 90.3]\n",
      "\n",
      "Event with the highest average score: Basketball\n",
      "\n",
      "Total score for each competition: [418 416 449 413 451 478 440 416 454 434]\n",
      "\n",
      "Competition with the highest total score: Competition 6\n"
     ]
    }
   ],
   "source": [
    "# Step 2. Calculate the average score for each event (mean across each column)\n",
    "average_scores_per_event = np.mean(scores, axis=0)\n",
    "print(\"\\nAverage score for each event:\", average_scores_per_event)\n",
    "\n",
    "# Step 2. Find the event with the highest average score\n",
    "event_with_highest_avg = np.argmax(average_scores_per_event)  # Index of the event with highest average\n",
    "events = [\"Running\", \"Swimming\", \"Cycling\", \"Weightlifting\", \"Basketball\"]\n",
    "print(\"\\nEvent with the highest average score:\", events[event_with_highest_avg])\n",
    "\n",
    "# Step 2. Calculate the total score across all events for each competition (sum across each row)\n",
    "total_scores_per_competition = np.sum(scores, axis=1)\n",
    "print(\"\\nTotal score for each competition:\", total_scores_per_competition)\n",
    "\n",
    "# Step 2. Find the competition with the highest total score\n",
    "competition_with_highest_total_score = np.argmax(total_scores_per_competition)  # Index of the competition with highest total score\n",
    "competitions = [f\"Competition {i+1}\" for i in range(10)]\n",
    "print(\"\\nCompetition with the highest total score:\", competitions[competition_with_highest_total_score])"
   ]
  },
  {
   "cell_type": "code",
   "execution_count": null,
   "metadata": {},
   "outputs": [],
   "source": []
  }
 ],
 "metadata": {
  "kernelspec": {
   "display_name": "Python (CIFAR10)",
   "language": "python",
   "name": "cifar10"
  },
  "language_info": {
   "codemirror_mode": {
    "name": "ipython",
    "version": 3
   },
   "file_extension": ".py",
   "mimetype": "text/x-python",
   "name": "python",
   "nbconvert_exporter": "python",
   "pygments_lexer": "ipython3",
   "version": "3.12.10"
  }
 },
 "nbformat": 4,
 "nbformat_minor": 4
}
