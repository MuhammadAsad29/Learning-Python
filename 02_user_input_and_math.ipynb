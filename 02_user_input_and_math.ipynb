{
 "cells": [
  {
   "cell_type": "code",
   "execution_count": 8,
   "metadata": {},
   "outputs": [
    {
     "name": "stdout",
     "output_type": "stream",
     "text": [
      "Enter your age: 15\n",
      "You are a teenager.\n"
     ]
    }
   ],
   "source": [
    "# Get user's age\n",
    "age = int(input(\"Enter your age: \"))\n",
    "\n",
    "# Check if the user is a teenager (between 13 and 19 inclusive)\n",
    "if 13 <= age <= 19:\n",
    "    print(\"You are a teenager.\")\n",
    "else:\n",
    "    print(\"You are not a teenager.\")"
   ]
  },
  {
   "cell_type": "code",
   "execution_count": 9,
   "metadata": {},
   "outputs": [
    {
     "name": "stdout",
     "output_type": "stream",
     "text": [
      "Enter a number: 33\n",
      "The number is divisible by 3.\n"
     ]
    }
   ],
   "source": [
    "# Get the number from the user\n",
    "number = int(input(\"Enter a number: \"))\n",
    "\n",
    "# Check divisibility by 3 or 5\n",
    "if number % 3 == 0 and number % 5 == 0:\n",
    "    print(\"The number is divisible by both 3 and 5.\")\n",
    "elif number % 3 == 0:\n",
    "    print(\"The number is divisible by 3.\")\n",
    "elif number % 5 == 0:\n",
    "    print(\"The number is divisible by 5.\")\n",
    "else:\n",
    "    print(\"The number is not divisible by 3 or 5.\")"
   ]
  },
  {
   "cell_type": "code",
   "execution_count": 10,
   "metadata": {},
   "outputs": [
    {
     "name": "stdout",
     "output_type": "stream",
     "text": [
      "Enter a number: 54\n",
      "The number is divisible by 2.\n"
     ]
    }
   ],
   "source": [
    "# Get the number from the user\n",
    "number = int(input(\"Enter a number: \"))\n",
    "\n",
    "# Check divisibility by 8 or 2 or 11\n",
    "if number % 2 == 0 and number % 8 == 0 and number % 11 == 0:\n",
    "    print(\"The number is divisible by all 2, 8 and 11.\")\n",
    "elif number % 2 == 0 and number % 8 == 0:\n",
    "    print(\"The number is divisible by both 2 and 8.\")\n",
    "elif number % 2 == 0 and number % 11 == 0:\n",
    "    print(\"The number is divisible by both 2 and 11.\")\n",
    "elif number % 8 == 0 and number % 11 == 0:\n",
    "    print(\"The number is divisible by both 8 and 11.\")\n",
    "elif number % 2 == 0:\n",
    "    print(\"The number is divisible by 2.\")\n",
    "elif number % 8 == 0:\n",
    "    print(\"The number is divisible by 8.\")\n",
    "elif number % 11 == 0:\n",
    "    print(\"The number is divisible by 11.\")\n",
    "else:\n",
    "    print(\"The number is not divisible by 8, 2 or 11.\")"
   ]
  },
  {
   "cell_type": "code",
   "execution_count": 15,
   "metadata": {},
   "outputs": [
    {
     "name": "stdout",
     "output_type": "stream",
     "text": [
      "apple\n",
      "banana\n",
      "cherry\n"
     ]
    }
   ],
   "source": [
    "# List of fruits\n",
    "fruits = [\"apple\", \"banana\", \"cherry\"]\n",
    "\n",
    "# Loop through the list and print each fruit\n",
    "for fruit in fruits:\n",
    "    print(fruit)"
   ]
  },
  {
   "cell_type": "code",
   "execution_count": 13,
   "metadata": {},
   "outputs": [
    {
     "name": "stdout",
     "output_type": "stream",
     "text": [
      "b\n",
      "a\n",
      "n\n",
      "a\n",
      "n\n",
      "a\n"
     ]
    }
   ],
   "source": [
    "# Given word\n",
    "word = \"banana\"\n",
    "\n",
    "# Loop through each letter in the word and print it\n",
    "for letter in word:\n",
    "    print(letter)\n"
   ]
  },
  {
   "cell_type": "code",
   "execution_count": 6,
   "metadata": {},
   "outputs": [
    {
     "name": "stdout",
     "output_type": "stream",
     "text": [
      "{'Fruits': ['Apple', 'cherry'], 'Vegetables': ['Tomato', 'Potato'], 'Dry_Fruits': ['Cashew', 'Pistachio']}\n",
      "{'Fruits': ['Apple', 'cherry'], 'Vegetables': ['Tomato', 'Potato'], 'Dry_Fruits': ['Cashew', 'Pistachio']}\n",
      "{'Fruits': ['Apple', 'cherry'], 'Vegetables': ['Tomato', 'Potato'], 'Dry_Fruits': ['Cashew', 'Pistachio']}\n",
      "Fruits : Apple, cherry\n",
      "Vegetables : Tomato, Potato\n",
      "Dry_Fruits : Cashew, Pistachio\n"
     ]
    }
   ],
   "source": [
    "# List of fruits\n",
    "foods = {\n",
    "    \"Fruits\": [\"Apple\", \"cherry\"], \n",
    "    \"Vegetables\": [\"Tomato\", \"Potato\"],\n",
    "    \"Dry_Fruits\": [\"Cashew\", \"Pistachio\"]\n",
    "}\n",
    "\n",
    "# Loop through the list and print each fruit\n",
    "for word, example in foods.items():\n",
    "    print(foods)       \n",
    "\n",
    "# Loop through dictionary\n",
    "for category, items in foods.items():\n",
    "    print(category, \":\", \", \".join(items))"
   ]
  },
  {
   "cell_type": "code",
   "execution_count": 6,
   "metadata": {},
   "outputs": [
    {
     "name": "stdout",
     "output_type": "stream",
     "text": [
      "0\n",
      "1\n",
      "2\n",
      "3\n",
      "4\n",
      "5\n"
     ]
    }
   ],
   "source": [
    "for x in range(6):\n",
    "    print(x)"
   ]
  },
  {
   "cell_type": "code",
   "execution_count": 5,
   "metadata": {},
   "outputs": [
    {
     "name": "stdout",
     "output_type": "stream",
     "text": [
      "0\n",
      "2\n",
      "4\n",
      "6\n",
      "8\n",
      "10\n",
      "12\n",
      "14\n",
      "16\n",
      "18\n"
     ]
    }
   ],
   "source": [
    "for x in range(0, 20, 2):\n",
    "    print(x)"
   ]
  },
  {
   "cell_type": "code",
   "execution_count": 1,
   "metadata": {},
   "outputs": [
    {
     "name": "stdout",
     "output_type": "stream",
     "text": [
      "red apple\n",
      "red banana\n",
      "red cherry\n",
      "big apple\n",
      "big banana\n",
      "big cherry\n",
      "tasty apple\n",
      "tasty banana\n",
      "tasty cherry\n"
     ]
    }
   ],
   "source": [
    "adj = [\"red\", \"big\", \"tasty\"]\n",
    "fruits = [\"apple\", \"banana\", \"cherry\"]\n",
    "\n",
    "for x in adj:\n",
    "    for y in fruits:\n",
    "        print(x, y)\n"
   ]
  },
  {
   "cell_type": "code",
   "execution_count": 2,
   "metadata": {},
   "outputs": [
    {
     "name": "stdout",
     "output_type": "stream",
     "text": [
      "Hello from a function\n"
     ]
    }
   ],
   "source": [
    "# Define the function\n",
    "def my_function():\n",
    "    print(\"Hello from a function\")\n",
    "\n",
    "# Call the function\n",
    "my_function()\n"
   ]
  },
  {
   "cell_type": "code",
   "execution_count": 3,
   "metadata": {},
   "outputs": [
    {
     "name": "stdout",
     "output_type": "stream",
     "text": [
      "Emil Refsnes\n",
      "Tobias Refsnes\n",
      "Linus Refsnes\n"
     ]
    }
   ],
   "source": [
    "# Define the function with one parameter\n",
    "def my_function(fname):\n",
    "    print(fname + \" Refsnes\")\n",
    "\n",
    "# Call the function with different names\n",
    "my_function(\"Emil\")\n",
    "my_function(\"Tobias\")\n",
    "my_function(\"Linus\")\n"
   ]
  },
  {
   "cell_type": "code",
   "execution_count": 6,
   "metadata": {},
   "outputs": [
    {
     "name": "stdout",
     "output_type": "stream",
     "text": [
      "Addition: 8\n",
      "Subtraction: 2\n",
      "Multiplication: 15\n",
      "Division: 1.6666666666666667\n"
     ]
    }
   ],
   "source": [
    "# Function for addition\n",
    "def add(num1, num2):\n",
    "    return num1 + num2\n",
    "\n",
    "# Function for subtraction\n",
    "def sub(num1, num2):\n",
    "    return num1 - num2\n",
    "\n",
    "# Function for multiplication\n",
    "def mul(num1, num2):\n",
    "    return num1 * num2\n",
    "\n",
    "# Function for division\n",
    "def div(num1, num2):\n",
    "    if num2 != 0:\n",
    "        return num1 / num2\n",
    "    else:\n",
    "        return \"Error! Division by zero.\"\n",
    "\n",
    "# Numbers for calculations\n",
    "num1 = 5\n",
    "num2 = 3\n",
    "\n",
    "# Calling the functions and printing the results\n",
    "addition_result = add(num1, num2)\n",
    "subtraction_result = sub(num1, num2)\n",
    "multiplication_result = mul(num1, num2)\n",
    "division_result = div(num1, num2)\n",
    "\n",
    "# Output the results\n",
    "print(\"Addition:\", addition_result)\n",
    "print(\"Subtraction:\", subtraction_result)\n",
    "print(\"Multiplication:\", multiplication_result)\n",
    "print(\"Division:\", division_result)\n"
   ]
  },
  {
   "cell_type": "code",
   "execution_count": 5,
   "metadata": {},
   "outputs": [
    {
     "name": "stdout",
     "output_type": "stream",
     "text": [
      "13\n"
     ]
    }
   ],
   "source": [
    "# Define the lambda function\n",
    "x = lambda a, b, c: a + b + c\n",
    "\n",
    "# Call the lambda function with three arguments\n",
    "result = x(5, 6, 2)\n",
    "\n",
    "# Print the result\n",
    "print(result)\n"
   ]
  },
  {
   "cell_type": "code",
   "execution_count": 7,
   "metadata": {},
   "outputs": [
    {
     "name": "stdout",
     "output_type": "stream",
     "text": [
      "Enter a number: 24\n",
      "The number is even.\n",
      "Enter your marks: 34\n",
      "Your grade is: F\n"
     ]
    }
   ],
   "source": [
    "num = int(input(\"Enter a number: \"))\n",
    "\n",
    "if num % 2 == 0:\n",
    "    print(\"The number is even.\")\n",
    "else:\n",
    "    print(\"The number is odd.\")\n",
    "    \n",
    "marks = int(input(\"Enter your marks: \"))\n",
    "\n",
    "if marks >= 90:\n",
    "    grade = \"A\"\n",
    "elif marks >= 80:\n",
    "    grade = \"B\"\n",
    "elif marks >= 70:\n",
    "    grade = \"C\"\n",
    "elif marks >= 60:\n",
    "    grade = \"D\"\n",
    "else:\n",
    "    grade = \"F\"\n",
    "\n",
    "print(\"Your grade is:\", grade)"
   ]
  },
  {
   "cell_type": "code",
   "execution_count": 8,
   "metadata": {},
   "outputs": [
    {
     "name": "stdout",
     "output_type": "stream",
     "text": [
      "Square of 1 is 1\n",
      "Square of 2 is 4\n",
      "Square of 3 is 9\n",
      "Square of 4 is 16\n",
      "Square of 5 is 25\n",
      "Square of 6 is 36\n",
      "Square of 7 is 49\n",
      "Square of 8 is 64\n",
      "Square of 9 is 81\n",
      "Square of 10 is 100\n",
      "Sum of all primes below two million is: 142913828922\n"
     ]
    }
   ],
   "source": [
    "for i in range(1, 11):\n",
    "    print(f\"Square of {i} is {i ** 2}\")\n",
    "    \n",
    "limit = 2000000\n",
    "sieve = [True] * limit\n",
    "sieve[0] = False\n",
    "sieve[1] = False\n",
    "\n",
    "for num in range(2, int(limit**0.5) + 1):\n",
    "    if sieve[num]:\n",
    "        for multiple in range(num*num, limit, num):\n",
    "            sieve[multiple] = False\n",
    "\n",
    "prime_sum = sum(i for i, is_prime in enumerate(sieve) if is_prime)\n",
    "print(\"Sum of all primes below two million is:\", prime_sum)"
   ]
  },
  {
   "cell_type": "code",
   "execution_count": 9,
   "metadata": {},
   "outputs": [
    {
     "name": "stdout",
     "output_type": "stream",
     "text": [
      "Fibonacci sequence starting with 1 and 2:\n",
      "1, 2, 3, 5, 8, 13, 21, 34, 55, 89\n"
     ]
    }
   ],
   "source": [
    "a, b = 1, 2\n",
    "\n",
    "terms = 10\n",
    "\n",
    "print(\"Fibonacci sequence starting with 1 and 2:\")\n",
    "\n",
    "for _ in range(terms):\n",
    "    print(a, end=', ' if _ < terms - 1 else '\\n')\n",
    "    # Generate the next term\n",
    "    a, b = b, a + b"
   ]
  },
  {
   "cell_type": "code",
   "execution_count": 11,
   "metadata": {},
   "outputs": [
    {
     "name": "stdout",
     "output_type": "stream",
     "text": [
      "        1   2   3   4   5\n",
      "    +-------------------------\n",
      "  1 |   1   2   3   4   5\n",
      "  2 |   2   4   6   8  10\n",
      "  3 |   3   6   9  12  15\n",
      "  4 |   4   8  12  16  20\n",
      "  5 |   5  10  15  20  25\n"
     ]
    }
   ],
   "source": [
    "print(\"     \", end='')\n",
    "for i in range(1, 6):\n",
    "    print(f\"{i:4}\", end='')\n",
    "print()\n",
    "\n",
    "print(\"    +\" + \"-----\" * 5)\n",
    "\n",
    "for i in range(1, 6):\n",
    "    print(f\"{i:3} |\", end='')\n",
    "    for j in range(1, 6):\n",
    "        product = i * j\n",
    "        print(f\"{product:4}\", end='')\n",
    "    print()"
   ]
  },
  {
   "cell_type": "code",
   "execution_count": 14,
   "metadata": {},
   "outputs": [
    {
     "name": "stdout",
     "output_type": "stream",
     "text": [
      "I have a dog\n",
      "I have a cat\n",
      "I have a parrot\n",
      "The number 5 appears 3 times.\n",
      "Second country: Canada\n",
      "Fourth country: Brazil\n"
     ]
    }
   ],
   "source": [
    "pets = ['dog', 'cat', 'parrot']\n",
    "\n",
    "for pet in pets:\n",
    "    print(f\"I have a {pet}\")\n",
    "    numbers = [1, 2, 5, 5, 3, 5, 4]\n",
    "\n",
    "count_fives = 0\n",
    "for num in numbers:\n",
    "    if num == 5:\n",
    "        count_fives += 1\n",
    "\n",
    "print(f\"The number 5 appears {count_fives} times.\")\n",
    "countries = ['USA', 'Canada', 'Mexico', 'Brazil']\n",
    "\n",
    "second_item = countries[1]\n",
    "fourth_item = countries[3]\n",
    "\n",
    "print(\"Second country:\", second_item)\n",
    "print(\"Fourth country:\", fourth_item)"
   ]
  },
  {
   "cell_type": "code",
   "execution_count": 16,
   "metadata": {},
   "outputs": [
    {
     "name": "stdout",
     "output_type": "stream",
     "text": [
      "[5, 4, 3, 2, 1]\n",
      "True\n"
     ]
    }
   ],
   "source": [
    "def reverse_list(input_list):\n",
    "    return input_list[::-1]\n",
    "\n",
    "original_list = [1, 2, 3, 4, 5]\n",
    "reversed_list = reverse_list(original_list)\n",
    "print(reversed_list)\n",
    "\n",
    "import math\n",
    "\n",
    "def ball_collide(ball1, ball2):\n",
    "    x1, y1, r1 = ball1\n",
    "    x2, y2, r2 = ball2\n",
    "    \n",
    "    distance = math.sqrt((x2 - x1)**2 + (y2 - y1)**2)\n",
    "    \n",
    "    return distance <= (r1 + r2)\n",
    "\n",
    "ball_a = (0, 0, 5)\n",
    "ball_b = (7, 0, 3)\n",
    "print(ball_collide(ball_a, ball_b))"
   ]
  },
  {
   "cell_type": "code",
   "execution_count": null,
   "metadata": {},
   "outputs": [],
   "source": []
  }
 ],
 "metadata": {
  "kernelspec": {
   "display_name": "Python (CIFAR10)",
   "language": "python",
   "name": "cifar10"
  },
  "language_info": {
   "codemirror_mode": {
    "name": "ipython",
    "version": 3
   },
   "file_extension": ".py",
   "mimetype": "text/x-python",
   "name": "python",
   "nbconvert_exporter": "python",
   "pygments_lexer": "ipython3",
   "version": "3.12.10"
  }
 },
 "nbformat": 4,
 "nbformat_minor": 4
}
