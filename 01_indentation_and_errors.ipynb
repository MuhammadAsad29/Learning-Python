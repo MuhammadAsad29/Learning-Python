{
 "cells": [
  {
   "cell_type": "code",
   "execution_count": null,
   "metadata": {},
   "outputs": [
    {
     "ename": "IndentationError",
     "evalue": "expected an indented block (<ipython-input-11-28a49b70c62a>, line 2)",
     "output_type": "error",
     "traceback": [
      "\u001b[1;36m  File \u001b[1;32m\"<ipython-input-11-28a49b70c62a>\"\u001b[1;36m, line \u001b[1;32m2\u001b[0m\n\u001b[1;33m    print(f\"Hello, {name}!\")\u001b[0m\n\u001b[1;37m        ^\u001b[0m\n\u001b[1;31mIndentationError\u001b[0m\u001b[1;31m:\u001b[0m expected an indented block\n"
     ]
    }
   ],
   "source": [
    "# understaning Indentation error\n",
    "def greet(name):\n",
    "print(f\"Hello, {name}!\")"
   ]
  },
  {
   "cell_type": "code",
   "execution_count": 12,
   "metadata": {},
   "outputs": [],
   "source": [
    "def greet(name):\n",
    "    print(f\"Hello, {name}!\")"
   ]
  },
  {
   "cell_type": "code",
   "execution_count": 13,
   "metadata": {},
   "outputs": [
    {
     "name": "stdout",
     "output_type": "stream",
     "text": [
      "Hello, Asad!\n"
     ]
    }
   ],
   "source": [
    "def greet(name):\n",
    "    print(f\"Hello, {name}!\")  # Indentation corrected\n",
    "greet(\"Asad\")"
   ]
  },
  {
   "cell_type": "code",
   "execution_count": 1,
   "metadata": {},
   "outputs": [
    {
     "name": "stdout",
     "output_type": "stream",
     "text": [
      "Enter x1: 23\n",
      "Enter x2: 12\n",
      "Enter y1: 21\n",
      "Enter y2: 21\n",
      "The distance between the two points is: 11.0\n"
     ]
    }
   ],
   "source": [
    "# Input coordinates for two points\n",
    "x1 = int(input(\"Enter x1: \"))\n",
    "x2 = int(input(\"Enter x2: \"))\n",
    "y1 = int(input(\"Enter y1: \"))\n",
    "y2 = int(input(\"Enter y2: \"))\n",
    "\n",
    "# Calculate the distance using the Pythagorean Theorem\n",
    "result = ((((x2 - x1) ** 2) + ((y2 - y1) ** 2)) ** 0.5)\n",
    "\n",
    "# Print the result\n",
    "print(f\"The distance between the two points is: {result}\")\n"
   ]
  },
  {
   "cell_type": "code",
   "execution_count": 31,
   "metadata": {},
   "outputs": [
    {
     "name": "stdout",
     "output_type": "stream",
     "text": [
      "Enter x1: 231\n",
      "Enter x2: 32\n",
      "Enter x3: 432\n",
      "Enter y1: 434\n",
      "Enter y2: 4324\n",
      "Enter y3: 3234\n",
      "The distance between the two points is: 182.7815379907084\n"
     ]
    }
   ],
   "source": [
    "# Input coordinates for two points\n",
    "x1 = int(input(\"Enter x1: \"))\n",
    "x2 = int(input(\"Enter x2: \"))\n",
    "x3 = int(input(\"Enter x3: \"))\n",
    "y1 = int(input(\"Enter y1: \"))\n",
    "y2 = int(input(\"Enter y2: \"))\n",
    "y3 = int(input(\"Enter y3: \"))\n",
    "\n",
    "# Calculate the distance using the Formula\n",
    "result = (((((x2 + x1 + x3)/3) ** 2) + (((y2 + y1 + y3)/3) ** 2)) ** 0.33)\n",
    "\n",
    "# Print the result\n",
    "print(f\"The distance between the two points is: {result}\")"
   ]
  },
  {
   "cell_type": "code",
   "execution_count": null,
   "metadata": {},
   "outputs": [],
   "source": [
    "# Input coordinates for two points\n",
    "x1 = int(input(\"Enter x1: \"))\n",
    "x2 = int(input(\"Enter x2: \"))\n",
    "y1 = int(input(\"Enter y1: \"))\n",
    "y2 = int(input(\"Enter y2: \"))\n",
    "\n",
    "# Calculate the distance using the Manhattan Formula\n",
    "result = ((((x2 - x1) ) + ((y2 - y1))))\n",
    "\n",
    "# Print the result\n",
    "print(f\"The distance between the two points is: {result}\")"
   ]
  },
  {
   "cell_type": "code",
   "execution_count": 2,
   "metadata": {},
   "outputs": [
    {
     "name": "stdin",
     "output_type": "stream",
     "text": [
      "Enter first number:  23\n",
      "Enter second number:  21\n"
     ]
    },
    {
     "name": "stdout",
     "output_type": "stream",
     "text": [
      "The sum of 23.0 and 21.0 is: 44.0\n"
     ]
    }
   ],
   "source": [
    "# Get the numbers from command-line arguments\n",
    "num1 = float(input(\"Enter first number: \"))\n",
    "num2 = float(input(\"Enter second number: \"))\n",
    "\n",
    "# Calculate the sum\n",
    "sum = num1 + num2\n",
    "\n",
    "# Output the result\n",
    "print(f\"The sum of {num1} and {num2} is: {sum}\")\n"
   ]
  },
  {
   "cell_type": "code",
   "execution_count": 3,
   "metadata": {},
   "outputs": [
    {
     "name": "stdout",
     "output_type": "stream",
     "text": [
      "Integer: 10 (Type: <class 'int'>)\n",
      "Float: 10.5 (Type: <class 'float'>)\n",
      "Complex Number: (3+4j) (Type: <class 'complex'>)\n"
     ]
    }
   ],
   "source": [
    "# Integer\n",
    "integer_num = 10\n",
    "print(f\"Integer: {integer_num} (Type: {type(integer_num)})\")\n",
    "\n",
    "# Float\n",
    "float_num = 10.5\n",
    "print(f\"Float: {float_num} (Type: {type(float_num)})\")\n",
    "\n",
    "# Complex Number\n",
    "complex_num = 3 + 4j\n",
    "print(f\"Complex Number: {complex_num} (Type: {type(complex_num)})\")\n"
   ]
  },
  {
   "cell_type": "code",
   "execution_count": 4,
   "metadata": {},
   "outputs": [
    {
     "name": "stdout",
     "output_type": "stream",
     "text": [
      "Welcome to the lab!\n",
      "Learning Python is fun!\n",
      "Let's fix the indentation.\n"
     ]
    }
   ],
   "source": [
    "print(\"Welcome to the lab!\")\n",
    "print(\"Learning Python is fun!\")\n",
    "print(\"Let's fix the indentation.\")\n"
   ]
  },
  {
   "cell_type": "code",
   "execution_count": 2,
   "metadata": {},
   "outputs": [
    {
     "name": "stdout",
     "output_type": "stream",
     "text": [
      "Type any integar number: 32\n",
      "Integar: 32 (Type: <class 'int'>)\n",
      "Type any float number: 3.4\n",
      "Float: 10.5 (Type: <class 'float'>)\n",
      "Type any complex number: 3-7j\n",
      "Complex Number: (3-7j) (Type: <class 'complex'>)\n"
     ]
    }
   ],
   "source": [
    "integar_number = int(input(\"Type any integar number: \"))\n",
    "print(f\"Integar: {integar_number} (Type: {type(integar_number)})\")\n",
    "\n",
    "float_number = float(input(\"Type any float number: \"))\n",
    "print(f\"Float: {float_num} (Type: {type(float_num)})\")\n",
    "\n",
    "complex_number = complex(input(\"Type any complex number: \"))\n",
    "print(f\"Complex Number: {complex_number} (Type: {type(complex_number)})\")"
   ]
  },
  {
   "cell_type": "code",
   "execution_count": 5,
   "metadata": {},
   "outputs": [
    {
     "name": "stdout",
     "output_type": "stream",
     "text": [
      "Enter x1: 12\n",
      "Enter y1: 12\n",
      "Enter x2: 32\n",
      "Enter y2: 23\n",
      "The midpoint between (12.0, 12.0) and (32.0, 23.0) is (22.0, 17.5)\n"
     ]
    }
   ],
   "source": [
    "x1 = float(input(\"Enter x1: \"))\n",
    "y1 = float(input(\"Enter y1: \"))\n",
    "\n",
    "x2 = float(input(\"Enter x2: \"))\n",
    "y2 = float(input(\"Enter y2: \"))\n",
    "\n",
    "mid_x = (x1 + x2) / 2\n",
    "mid_y = (y1 + y2) / 2\n",
    "\n",
    "print(f\"The midpoint between ({x1}, {y1}) and ({x2}, {y2}) is ({mid_x}, {mid_y})\")"
   ]
  },
  {
   "cell_type": "code",
   "execution_count": 7,
   "metadata": {},
   "outputs": [
    {
     "name": "stdout",
     "output_type": "stream",
     "text": [
      "Subtraction: 23.5 - 32.4 = -8.899999999999999\n",
      "Multiplication: 23.5 * 32.4 = 761.4\n",
      "Division: 23.5 / 32.4 = 0.7253086419753086\n"
     ]
    }
   ],
   "source": [
    "import sys\n",
    "\n",
    "if len(sys.argv) != 3:\n",
    "    print(\"Usage: python script.py num1 num2\")\n",
    "    sys.exit(1)\n",
    "try:\n",
    "    num1 = 23.5\n",
    "    num2 = 32.4\n",
    "except ValueError:\n",
    "    print(\"Please provide valid numbers.\")\n",
    "    sys.exit(1)\n",
    "\n",
    "sub = num1 - num2\n",
    "mul = num1 * num2\n",
    "div = None\n",
    "if num2 != 0:\n",
    "    div = num1 / num2\n",
    "else:\n",
    "    div = \"Undefined (division by zero)\"\n",
    "\n",
    "print(f\"Subtraction: {num1} - {num2} = {sub}\")\n",
    "print(f\"Multiplication: {num1} * {num2} = {mul}\")\n",
    "print(f\"Division: {num1} / {num2} = {div}\")"
   ]
  },
  {
   "cell_type": "code",
   "execution_count": 8,
   "metadata": {},
   "outputs": [
    {
     "name": "stdout",
     "output_type": "stream",
     "text": [
      "HELLO\n",
      "hello\n",
      "HeXXo\n",
      "2\n"
     ]
    }
   ],
   "source": [
    "s = \"Hello\"\n",
    "\n",
    "print(s.upper())   \n",
    "print(s.lower())   \n",
    "print(s.replace(\"l\", \"X\"))\n",
    "print(s.find(\"l\"))  "
   ]
  },
  {
   "cell_type": "code",
   "execution_count": null,
   "metadata": {},
   "outputs": [],
   "source": []
  }
 ],
 "metadata": {
  "kernelspec": {
   "display_name": "Python (CIFAR10)",
   "language": "python",
   "name": "cifar10"
  },
  "language_info": {
   "codemirror_mode": {
    "name": "ipython",
    "version": 3
   },
   "file_extension": ".py",
   "mimetype": "text/x-python",
   "name": "python",
   "nbconvert_exporter": "python",
   "pygments_lexer": "ipython3",
   "version": "3.12.10"
  }
 },
 "nbformat": 4,
 "nbformat_minor": 4
}
